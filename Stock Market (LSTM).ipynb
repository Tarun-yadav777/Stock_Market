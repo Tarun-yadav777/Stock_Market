{
 "cells": [
  {
   "cell_type": "code",
   "execution_count": 25,
   "metadata": {},
   "outputs": [],
   "source": [
    "import pandas_datareader as pdr\n",
    "import  os\n",
    "import matplotlib.pyplot as plt\n",
    "import seaborn as sns\n",
    "%matplotlib inline\n",
    "import pandas as pd\n",
    "import numpy as np"
   ]
  },
  {
   "cell_type": "code",
   "execution_count": 8,
   "metadata": {},
   "outputs": [],
   "source": [
    "df = pdr.get_data_tiingo('AAPL', api_key='504488ffb8541227acfb7f1e67fe80b13fb0351e')"
   ]
  },
  {
   "cell_type": "code",
   "execution_count": 9,
   "metadata": {},
   "outputs": [],
   "source": [
    "df.to_csv('AAPL.csv')"
   ]
  },
  {
   "cell_type": "code",
   "execution_count": 12,
   "metadata": {},
   "outputs": [
    {
     "data": {
      "text/html": [
       "<div>\n",
       "<style scoped>\n",
       "    .dataframe tbody tr th:only-of-type {\n",
       "        vertical-align: middle;\n",
       "    }\n",
       "\n",
       "    .dataframe tbody tr th {\n",
       "        vertical-align: top;\n",
       "    }\n",
       "\n",
       "    .dataframe thead th {\n",
       "        text-align: right;\n",
       "    }\n",
       "</style>\n",
       "<table border=\"1\" class=\"dataframe\">\n",
       "  <thead>\n",
       "    <tr style=\"text-align: right;\">\n",
       "      <th></th>\n",
       "      <th>symbol</th>\n",
       "      <th>date</th>\n",
       "      <th>close</th>\n",
       "      <th>high</th>\n",
       "      <th>low</th>\n",
       "      <th>open</th>\n",
       "      <th>volume</th>\n",
       "      <th>adjClose</th>\n",
       "      <th>adjHigh</th>\n",
       "      <th>adjLow</th>\n",
       "      <th>adjOpen</th>\n",
       "      <th>adjVolume</th>\n",
       "      <th>divCash</th>\n",
       "      <th>splitFactor</th>\n",
       "    </tr>\n",
       "  </thead>\n",
       "  <tbody>\n",
       "    <tr>\n",
       "      <th>0</th>\n",
       "      <td>AAPL</td>\n",
       "      <td>2015-08-24 00:00:00+00:00</td>\n",
       "      <td>103.12</td>\n",
       "      <td>108.80</td>\n",
       "      <td>92.00</td>\n",
       "      <td>94.870</td>\n",
       "      <td>162206292</td>\n",
       "      <td>95.280906</td>\n",
       "      <td>100.529118</td>\n",
       "      <td>85.006239</td>\n",
       "      <td>87.658064</td>\n",
       "      <td>162206292</td>\n",
       "      <td>0.0</td>\n",
       "      <td>1.0</td>\n",
       "    </tr>\n",
       "    <tr>\n",
       "      <th>1</th>\n",
       "      <td>AAPL</td>\n",
       "      <td>2015-08-25 00:00:00+00:00</td>\n",
       "      <td>103.74</td>\n",
       "      <td>111.11</td>\n",
       "      <td>103.50</td>\n",
       "      <td>111.110</td>\n",
       "      <td>103601599</td>\n",
       "      <td>95.853775</td>\n",
       "      <td>102.663514</td>\n",
       "      <td>95.632019</td>\n",
       "      <td>102.663514</td>\n",
       "      <td>103601599</td>\n",
       "      <td>0.0</td>\n",
       "      <td>1.0</td>\n",
       "    </tr>\n",
       "    <tr>\n",
       "      <th>2</th>\n",
       "      <td>AAPL</td>\n",
       "      <td>2015-08-26 00:00:00+00:00</td>\n",
       "      <td>109.69</td>\n",
       "      <td>109.89</td>\n",
       "      <td>105.05</td>\n",
       "      <td>107.085</td>\n",
       "      <td>96774611</td>\n",
       "      <td>101.351461</td>\n",
       "      <td>101.536257</td>\n",
       "      <td>97.064189</td>\n",
       "      <td>98.944491</td>\n",
       "      <td>96774611</td>\n",
       "      <td>0.0</td>\n",
       "      <td>1.0</td>\n",
       "    </tr>\n",
       "    <tr>\n",
       "      <th>3</th>\n",
       "      <td>AAPL</td>\n",
       "      <td>2015-08-27 00:00:00+00:00</td>\n",
       "      <td>112.92</td>\n",
       "      <td>113.24</td>\n",
       "      <td>110.02</td>\n",
       "      <td>112.250</td>\n",
       "      <td>84616056</td>\n",
       "      <td>104.335919</td>\n",
       "      <td>104.631593</td>\n",
       "      <td>101.656374</td>\n",
       "      <td>103.716852</td>\n",
       "      <td>84616056</td>\n",
       "      <td>0.0</td>\n",
       "      <td>1.0</td>\n",
       "    </tr>\n",
       "    <tr>\n",
       "      <th>4</th>\n",
       "      <td>AAPL</td>\n",
       "      <td>2015-08-28 00:00:00+00:00</td>\n",
       "      <td>113.29</td>\n",
       "      <td>113.31</td>\n",
       "      <td>111.54</td>\n",
       "      <td>112.170</td>\n",
       "      <td>53164407</td>\n",
       "      <td>104.677792</td>\n",
       "      <td>104.696271</td>\n",
       "      <td>103.060825</td>\n",
       "      <td>103.642933</td>\n",
       "      <td>53164407</td>\n",
       "      <td>0.0</td>\n",
       "      <td>1.0</td>\n",
       "    </tr>\n",
       "  </tbody>\n",
       "</table>\n",
       "</div>"
      ],
      "text/plain": [
       "  symbol                       date   close    high     low     open  \\\n",
       "0   AAPL  2015-08-24 00:00:00+00:00  103.12  108.80   92.00   94.870   \n",
       "1   AAPL  2015-08-25 00:00:00+00:00  103.74  111.11  103.50  111.110   \n",
       "2   AAPL  2015-08-26 00:00:00+00:00  109.69  109.89  105.05  107.085   \n",
       "3   AAPL  2015-08-27 00:00:00+00:00  112.92  113.24  110.02  112.250   \n",
       "4   AAPL  2015-08-28 00:00:00+00:00  113.29  113.31  111.54  112.170   \n",
       "\n",
       "      volume    adjClose     adjHigh      adjLow     adjOpen  adjVolume  \\\n",
       "0  162206292   95.280906  100.529118   85.006239   87.658064  162206292   \n",
       "1  103601599   95.853775  102.663514   95.632019  102.663514  103601599   \n",
       "2   96774611  101.351461  101.536257   97.064189   98.944491   96774611   \n",
       "3   84616056  104.335919  104.631593  101.656374  103.716852   84616056   \n",
       "4   53164407  104.677792  104.696271  103.060825  103.642933   53164407   \n",
       "\n",
       "   divCash  splitFactor  \n",
       "0      0.0          1.0  \n",
       "1      0.0          1.0  \n",
       "2      0.0          1.0  \n",
       "3      0.0          1.0  \n",
       "4      0.0          1.0  "
      ]
     },
     "execution_count": 12,
     "metadata": {},
     "output_type": "execute_result"
    }
   ],
   "source": [
    "df = pd.read_csv(\"AAPL.csv\")\n",
    "df.head()"
   ]
  },
  {
   "cell_type": "code",
   "execution_count": 14,
   "metadata": {},
   "outputs": [
    {
     "data": {
      "text/html": [
       "<div>\n",
       "<style scoped>\n",
       "    .dataframe tbody tr th:only-of-type {\n",
       "        vertical-align: middle;\n",
       "    }\n",
       "\n",
       "    .dataframe tbody tr th {\n",
       "        vertical-align: top;\n",
       "    }\n",
       "\n",
       "    .dataframe thead th {\n",
       "        text-align: right;\n",
       "    }\n",
       "</style>\n",
       "<table border=\"1\" class=\"dataframe\">\n",
       "  <thead>\n",
       "    <tr style=\"text-align: right;\">\n",
       "      <th></th>\n",
       "      <th>symbol</th>\n",
       "      <th>date</th>\n",
       "      <th>close</th>\n",
       "      <th>high</th>\n",
       "      <th>low</th>\n",
       "      <th>open</th>\n",
       "      <th>volume</th>\n",
       "      <th>adjClose</th>\n",
       "      <th>adjHigh</th>\n",
       "      <th>adjLow</th>\n",
       "      <th>adjOpen</th>\n",
       "      <th>adjVolume</th>\n",
       "      <th>divCash</th>\n",
       "      <th>splitFactor</th>\n",
       "    </tr>\n",
       "  </thead>\n",
       "  <tbody>\n",
       "    <tr>\n",
       "      <th>1254</th>\n",
       "      <td>AAPL</td>\n",
       "      <td>2020-08-17 00:00:00+00:00</td>\n",
       "      <td>458.43</td>\n",
       "      <td>464.350</td>\n",
       "      <td>455.8501</td>\n",
       "      <td>464.250</td>\n",
       "      <td>29431414</td>\n",
       "      <td>458.43</td>\n",
       "      <td>464.350</td>\n",
       "      <td>455.8501</td>\n",
       "      <td>464.250</td>\n",
       "      <td>29431414</td>\n",
       "      <td>0.0</td>\n",
       "      <td>1.0</td>\n",
       "    </tr>\n",
       "    <tr>\n",
       "      <th>1255</th>\n",
       "      <td>AAPL</td>\n",
       "      <td>2020-08-18 00:00:00+00:00</td>\n",
       "      <td>462.25</td>\n",
       "      <td>464.000</td>\n",
       "      <td>456.0300</td>\n",
       "      <td>457.410</td>\n",
       "      <td>26408385</td>\n",
       "      <td>462.25</td>\n",
       "      <td>464.000</td>\n",
       "      <td>456.0300</td>\n",
       "      <td>457.410</td>\n",
       "      <td>26408385</td>\n",
       "      <td>0.0</td>\n",
       "      <td>1.0</td>\n",
       "    </tr>\n",
       "    <tr>\n",
       "      <th>1256</th>\n",
       "      <td>AAPL</td>\n",
       "      <td>2020-08-19 00:00:00+00:00</td>\n",
       "      <td>462.83</td>\n",
       "      <td>468.650</td>\n",
       "      <td>462.4400</td>\n",
       "      <td>463.933</td>\n",
       "      <td>36384502</td>\n",
       "      <td>462.83</td>\n",
       "      <td>468.650</td>\n",
       "      <td>462.4400</td>\n",
       "      <td>463.933</td>\n",
       "      <td>36384502</td>\n",
       "      <td>0.0</td>\n",
       "      <td>1.0</td>\n",
       "    </tr>\n",
       "    <tr>\n",
       "      <th>1257</th>\n",
       "      <td>AAPL</td>\n",
       "      <td>2020-08-20 00:00:00+00:00</td>\n",
       "      <td>473.10</td>\n",
       "      <td>473.568</td>\n",
       "      <td>462.9335</td>\n",
       "      <td>463.000</td>\n",
       "      <td>31726797</td>\n",
       "      <td>473.10</td>\n",
       "      <td>473.568</td>\n",
       "      <td>462.9335</td>\n",
       "      <td>463.000</td>\n",
       "      <td>31726797</td>\n",
       "      <td>0.0</td>\n",
       "      <td>1.0</td>\n",
       "    </tr>\n",
       "    <tr>\n",
       "      <th>1258</th>\n",
       "      <td>AAPL</td>\n",
       "      <td>2020-08-21 00:00:00+00:00</td>\n",
       "      <td>497.48</td>\n",
       "      <td>499.472</td>\n",
       "      <td>477.0000</td>\n",
       "      <td>477.050</td>\n",
       "      <td>84513660</td>\n",
       "      <td>497.48</td>\n",
       "      <td>499.472</td>\n",
       "      <td>477.0000</td>\n",
       "      <td>477.050</td>\n",
       "      <td>84513660</td>\n",
       "      <td>0.0</td>\n",
       "      <td>1.0</td>\n",
       "    </tr>\n",
       "  </tbody>\n",
       "</table>\n",
       "</div>"
      ],
      "text/plain": [
       "     symbol                       date   close     high       low     open  \\\n",
       "1254   AAPL  2020-08-17 00:00:00+00:00  458.43  464.350  455.8501  464.250   \n",
       "1255   AAPL  2020-08-18 00:00:00+00:00  462.25  464.000  456.0300  457.410   \n",
       "1256   AAPL  2020-08-19 00:00:00+00:00  462.83  468.650  462.4400  463.933   \n",
       "1257   AAPL  2020-08-20 00:00:00+00:00  473.10  473.568  462.9335  463.000   \n",
       "1258   AAPL  2020-08-21 00:00:00+00:00  497.48  499.472  477.0000  477.050   \n",
       "\n",
       "        volume  adjClose  adjHigh    adjLow  adjOpen  adjVolume  divCash  \\\n",
       "1254  29431414    458.43  464.350  455.8501  464.250   29431414      0.0   \n",
       "1255  26408385    462.25  464.000  456.0300  457.410   26408385      0.0   \n",
       "1256  36384502    462.83  468.650  462.4400  463.933   36384502      0.0   \n",
       "1257  31726797    473.10  473.568  462.9335  463.000   31726797      0.0   \n",
       "1258  84513660    497.48  499.472  477.0000  477.050   84513660      0.0   \n",
       "\n",
       "      splitFactor  \n",
       "1254          1.0  \n",
       "1255          1.0  \n",
       "1256          1.0  \n",
       "1257          1.0  \n",
       "1258          1.0  "
      ]
     },
     "execution_count": 14,
     "metadata": {},
     "output_type": "execute_result"
    }
   ],
   "source": [
    "df.tail()"
   ]
  },
  {
   "cell_type": "code",
   "execution_count": 16,
   "metadata": {},
   "outputs": [
    {
     "data": {
      "text/plain": [
       "(1259, 14)"
      ]
     },
     "execution_count": 16,
     "metadata": {},
     "output_type": "execute_result"
    }
   ],
   "source": [
    "df.shape"
   ]
  },
  {
   "cell_type": "code",
   "execution_count": 18,
   "metadata": {},
   "outputs": [],
   "source": [
    "df1 = df['close']"
   ]
  },
  {
   "cell_type": "code",
   "execution_count": 23,
   "metadata": {},
   "outputs": [
    {
     "data": {
      "text/plain": [
       "[<matplotlib.lines.Line2D at 0x222c130ddc0>]"
      ]
     },
     "execution_count": 23,
     "metadata": {},
     "output_type": "execute_result"
    },
    {
     "data": {
      "image/png": "[encoded data removed]",
      "text/plain": [
       "<Figure size 432x288 with 1 Axes>"
      ]
     },
     "metadata": {
      "needs_background": "light"
     },
     "output_type": "display_data"
    }
   ],
   "source": [
    "plt.plot(df1)"
   ]
  },
  {
   "cell_type": "code",
   "execution_count": 26,
   "metadata": {},
   "outputs": [],
   "source": [
    "from sklearn.preprocessing import MinMaxScaler\n",
    "sc = MinMaxScaler(feature_range=(0, 1))\n",
    "df1 = sc.fit_transform(np.array(df1).reshape(-1, 1))"
   ]
  },
  {
   "cell_type": "code",
   "execution_count": 27,
   "metadata": {},
   "outputs": [
    {
     "name": "stdout",
     "output_type": "stream",
     "text": [
      "[[0.03138969]\n",
      " [0.03291251]\n",
      " [0.04752665]\n",
      " ...\n",
      " [0.91489414]\n",
      " [0.94011888]\n",
      " [1.        ]]\n"
     ]
    }
   ],
   "source": [
    "print(df1)"
   ]
  },
  {
   "cell_type": "code",
   "execution_count": 28,
   "metadata": {},
   "outputs": [],
   "source": [
    "training_size = int(len(df1)*0.65)\n",
    "test_size = len(df1) - training_size\n",
    "train_data, test_data = df1[0:training_size,:],df1[training_size:len(df1),:1]"
   ]
  },
  {
   "cell_type": "code",
   "execution_count": 29,
   "metadata": {},
   "outputs": [
    {
     "data": {
      "text/plain": [
       "(818, 441)"
      ]
     },
     "execution_count": 29,
     "metadata": {},
     "output_type": "execute_result"
    }
   ],
   "source": [
    "training_size, test_size"
   ]
  },
  {
   "cell_type": "code",
   "execution_count": 32,
   "metadata": {},
   "outputs": [],
   "source": [
    "def create_dataset(dataset, time_step = 1):\n",
    "    dataX, datay = [], []\n",
    "    for i in range(len(dataset)- time_step-1):\n",
    "        a = dataset[i:(i+time_step), 0]\n",
    "        dataX.append(a)\n",
    "        datay.append(dataset[i + time_step, 0])\n",
    "    return np.array(dataX), np.array(datay)"
   ]
  },
  {
   "cell_type": "code",
   "execution_count": 36,
   "metadata": {},
   "outputs": [],
   "source": [
    "time_step = 100\n",
    "X_train, y_train = create_dataset(train_data, time_step)\n",
    "X_test, y_test = create_dataset(test_data, time_step)"
   ]
  },
  {
   "cell_type": "code",
   "execution_count": 37,
   "metadata": {},
   "outputs": [
    {
     "data": {
      "text/plain": [
       "((717, 100), (717,))"
      ]
     },
     "execution_count": 37,
     "metadata": {},
     "output_type": "execute_result"
    }
   ],
   "source": [
    "X_train.shape, y_train.shape"
   ]
  },
  {
   "cell_type": "code",
   "execution_count": 38,
   "metadata": {},
   "outputs": [
    {
     "data": {
      "text/plain": [
       "((340, 100), (340,))"
      ]
     },
     "execution_count": 38,
     "metadata": {},
     "output_type": "execute_result"
    }
   ],
   "source": [
    "X_test.shape, y_test.shape"
   ]
  },
  {
   "cell_type": "code",
   "execution_count": 39,
   "metadata": {},
   "outputs": [],
   "source": [
    "X_train =X_train.reshape(X_train.shape[0],X_train.shape[1] , 1)\n",
    "X_test = X_test.reshape(X_test.shape[0],X_test.shape[1] , 1)"
   ]
  },
  {
   "cell_type": "code",
   "execution_count": 40,
   "metadata": {},
   "outputs": [],
   "source": [
    "from tensorflow.keras.models import Sequential\n",
    "from tensorflow.keras.layers import Dense\n",
    "from tensorflow.keras.layers import LSTM"
   ]
  },
  {
   "cell_type": "code",
   "execution_count": 41,
   "metadata": {},
   "outputs": [],
   "source": [
    "model = Sequential()\n",
    "model.add(LSTM(50,return_sequences=True,input_shape=(100,1)))\n",
    "model.add(LSTM(50,return_sequences=True))\n",
    "model.add(LSTM(50))\n",
    "model.add(Dense(1))\n",
    "model.compile(loss='mean_squared_error',optimizer='adam')"
   ]
  },
  {
   "cell_type": "code",
   "execution_count": 42,
   "metadata": {},
   "outputs": [
    {
     "name": "stdout",
     "output_type": "stream",
     "text": [
      "Model: \"sequential\"\n",
      "_________________________________________________________________\n",
      "Layer (type)                 Output Shape              Param #   \n",
      "=================================================================\n",
      "lstm (LSTM)                  (None, 100, 50)           10400     \n",
      "_________________________________________________________________\n",
      "lstm_1 (LSTM)                (None, 100, 50)           20200     \n",
      "_________________________________________________________________\n",
      "lstm_2 (LSTM)                (None, 50)                20200     \n",
      "_________________________________________________________________\n",
      "dense (Dense)                (None, 1)                 51        \n",
      "=================================================================\n",
      "Total params: 50,851\n",
      "Trainable params: 50,851\n",
      "Non-trainable params: 0\n",
      "_________________________________________________________________\n"
     ]
    }
   ],
   "source": [
    "model.summary()"
   ]
  },
  {
   "cell_type": "code",
   "execution_count": 43,
   "metadata": {},
   "outputs": [
    {
     "name": "stdout",
     "output_type": "stream",
     "text": [
      "Epoch 1/100\n",
      "12/12 [==============================] - 2s 176ms/step - loss: 0.0097 - val_loss: 0.0485\n",
      "Epoch 2/100\n",
      "12/12 [==============================] - 1s 95ms/step - loss: 0.0018 - val_loss: 0.0032\n",
      "Epoch 3/100\n",
      "12/12 [==============================] - 1s 90ms/step - loss: 5.0833e-04 - val_loss: 0.0027\n",
      "Epoch 4/100\n",
      "12/12 [==============================] - 1s 101ms/step - loss: 2.9598e-04 - val_loss: 0.0048\n",
      "Epoch 5/100\n",
      "12/12 [==============================] - 2s 129ms/step - loss: 2.8138e-04 - val_loss: 0.0036\n",
      "Epoch 6/100\n",
      "12/12 [==============================] - 1s 101ms/step - loss: 2.7550e-04 - val_loss: 0.0034\n",
      "Epoch 7/100\n",
      "12/12 [==============================] - 1s 110ms/step - loss: 2.9526e-04 - val_loss: 0.0034\n",
      "Epoch 8/100\n",
      "12/12 [==============================] - 1s 103ms/step - loss: 2.6977e-04 - val_loss: 0.0045\n",
      "Epoch 9/100\n",
      "12/12 [==============================] - 1s 99ms/step - loss: 2.5530e-04 - val_loss: 0.0050\n",
      "Epoch 10/100\n",
      "12/12 [==============================] - 1s 98ms/step - loss: 2.9101e-04 - val_loss: 0.0062\n",
      "Epoch 11/100\n",
      "12/12 [==============================] - 1s 101ms/step - loss: 2.6812e-04 - val_loss: 0.0066\n",
      "Epoch 12/100\n",
      "12/12 [==============================] - 1s 102ms/step - loss: 2.5782e-04 - val_loss: 0.0062\n",
      "Epoch 13/100\n",
      "12/12 [==============================] - 1s 101ms/step - loss: 2.5149e-04 - val_loss: 0.0043\n",
      "Epoch 14/100\n",
      "12/12 [==============================] - 1s 99ms/step - loss: 2.5923e-04 - val_loss: 0.0043\n",
      "Epoch 15/100\n",
      "12/12 [==============================] - 1s 102ms/step - loss: 2.5096e-04 - val_loss: 0.0067\n",
      "Epoch 16/100\n",
      "12/12 [==============================] - 1s 111ms/step - loss: 2.7579e-04 - val_loss: 0.0060\n",
      "Epoch 17/100\n",
      "12/12 [==============================] - 1s 119ms/step - loss: 2.3631e-04 - val_loss: 0.0044\n",
      "Epoch 18/100\n",
      "12/12 [==============================] - 1s 103ms/step - loss: 2.1236e-04 - val_loss: 0.0049\n",
      "Epoch 19/100\n",
      "12/12 [==============================] - 1s 106ms/step - loss: 2.0533e-04 - val_loss: 0.0038\n",
      "Epoch 20/100\n",
      "12/12 [==============================] - 1s 102ms/step - loss: 2.1362e-04 - val_loss: 0.0041\n",
      "Epoch 21/100\n",
      "12/12 [==============================] - 1s 104ms/step - loss: 2.0538e-04 - val_loss: 0.0041\n",
      "Epoch 22/100\n",
      "12/12 [==============================] - 1s 104ms/step - loss: 1.9879e-04 - val_loss: 0.0038\n",
      "Epoch 23/100\n",
      "12/12 [==============================] - 1s 101ms/step - loss: 1.8852e-04 - val_loss: 0.0033\n",
      "Epoch 24/100\n",
      "12/12 [==============================] - 1s 101ms/step - loss: 1.9369e-04 - val_loss: 0.0036\n",
      "Epoch 25/100\n",
      "12/12 [==============================] - 1s 103ms/step - loss: 1.9736e-04 - val_loss: 0.0031\n",
      "Epoch 26/100\n",
      "12/12 [==============================] - 1s 102ms/step - loss: 2.0450e-04 - val_loss: 0.0058-\n",
      "Epoch 27/100\n",
      "12/12 [==============================] - 1s 102ms/step - loss: 2.6725e-04 - val_loss: 0.0022\n",
      "Epoch 28/100\n",
      "12/12 [==============================] - 1s 104ms/step - loss: 2.2711e-04 - val_loss: 0.0037\n",
      "Epoch 29/100\n",
      "12/12 [==============================] - 1s 107ms/step - loss: 2.3015e-04 - val_loss: 0.0040\n",
      "Epoch 30/100\n",
      "12/12 [==============================] - 1s 104ms/step - loss: 2.1091e-04 - val_loss: 0.0030\n",
      "Epoch 31/100\n",
      "12/12 [==============================] - 1s 103ms/step - loss: 1.6809e-04 - val_loss: 0.0039\n",
      "Epoch 32/100\n",
      "12/12 [==============================] - 1s 109ms/step - loss: 1.6776e-04 - val_loss: 0.0029\n",
      "Epoch 33/100\n",
      "12/12 [==============================] - 1s 106ms/step - loss: 1.5665e-04 - val_loss: 0.0026\n",
      "Epoch 34/100\n",
      "12/12 [==============================] - 1s 105ms/step - loss: 1.6153e-04 - val_loss: 0.0036\n",
      "Epoch 35/100\n",
      "12/12 [==============================] - 1s 108ms/step - loss: 1.9079e-04 - val_loss: 0.0028\n",
      "Epoch 36/100\n",
      "12/12 [==============================] - 1s 104ms/step - loss: 1.8703e-04 - val_loss: 0.0029\n",
      "Epoch 37/100\n",
      "12/12 [==============================] - 1s 107ms/step - loss: 2.0262e-04 - val_loss: 0.0017\n",
      "Epoch 38/100\n",
      "12/12 [==============================] - 1s 103ms/step - loss: 1.8736e-04 - val_loss: 0.0018\n",
      "Epoch 39/100\n",
      "12/12 [==============================] - 1s 110ms/step - loss: 1.4882e-04 - val_loss: 0.0029\n",
      "Epoch 40/100\n",
      "12/12 [==============================] - 1s 106ms/step - loss: 1.4224e-04 - val_loss: 0.0029\n",
      "Epoch 41/100\n",
      "12/12 [==============================] - 1s 100ms/step - loss: 1.4682e-04 - val_loss: 0.0024\n",
      "Epoch 42/100\n",
      "12/12 [==============================] - 1s 103ms/step - loss: 1.4016e-04 - val_loss: 0.0022\n",
      "Epoch 43/100\n",
      "12/12 [==============================] - 1s 107ms/step - loss: 1.3274e-04 - val_loss: 0.0018\n",
      "Epoch 44/100\n",
      "12/12 [==============================] - 1s 105ms/step - loss: 1.3382e-04 - val_loss: 0.0024\n",
      "Epoch 45/100\n",
      "12/12 [==============================] - 1s 104ms/step - loss: 1.4788e-04 - val_loss: 0.0016\n",
      "Epoch 46/100\n",
      "12/12 [==============================] - 1s 109ms/step - loss: 1.4572e-04 - val_loss: 0.0025\n",
      "Epoch 47/100\n",
      "12/12 [==============================] - 1s 106ms/step - loss: 1.3786e-04 - val_loss: 0.0030\n",
      "Epoch 48/100\n",
      "12/12 [==============================] - 1s 107ms/step - loss: 1.5598e-04 - val_loss: 9.1712e-04\n",
      "Epoch 49/100\n",
      "12/12 [==============================] - 1s 107ms/step - loss: 1.4685e-04 - val_loss: 0.0022\n",
      "Epoch 50/100\n",
      "12/12 [==============================] - 1s 107ms/step - loss: 1.2849e-04 - val_loss: 0.0023\n",
      "Epoch 51/100\n",
      "12/12 [==============================] - 1s 108ms/step - loss: 1.2759e-04 - val_loss: 0.0014\n",
      "Epoch 52/100\n",
      "12/12 [==============================] - 1s 104ms/step - loss: 1.2174e-04 - val_loss: 0.0015\n",
      "Epoch 53/100\n",
      "12/12 [==============================] - 1s 103ms/step - loss: 1.1927e-04 - val_loss: 0.0021\n",
      "Epoch 54/100\n",
      "12/12 [==============================] - 1s 103ms/step - loss: 1.2788e-04 - val_loss: 0.0011\n",
      "Epoch 55/100\n",
      "12/12 [==============================] - 1s 106ms/step - loss: 1.2513e-04 - val_loss: 0.0024\n",
      "Epoch 56/100\n",
      "12/12 [==============================] - 1s 103ms/step - loss: 1.2176e-04 - val_loss: 9.2834e-04\n",
      "Epoch 57/100\n",
      "12/12 [==============================] - 1s 108ms/step - loss: 1.3062e-04 - val_loss: 0.0023\n",
      "Epoch 58/100\n",
      "12/12 [==============================] - 1s 107ms/step - loss: 1.1866e-04 - val_loss: 0.0011\n",
      "Epoch 59/100\n",
      "12/12 [==============================] - 1s 104ms/step - loss: 1.1216e-04 - val_loss: 0.0018\n",
      "Epoch 60/100\n",
      "12/12 [==============================] - 1s 107ms/step - loss: 1.1226e-04 - val_loss: 0.0013\n",
      "Epoch 61/100\n",
      "12/12 [==============================] - 1s 101ms/step - loss: 1.1168e-04 - val_loss: 0.0016\n",
      "Epoch 62/100\n",
      "12/12 [==============================] - 1s 103ms/step - loss: 1.0750e-04 - val_loss: 0.0018\n",
      "Epoch 63/100\n",
      "12/12 [==============================] - 1s 109ms/step - loss: 1.0546e-04 - val_loss: 0.0013\n",
      "Epoch 64/100\n",
      "12/12 [==============================] - 1s 104ms/step - loss: 1.0473e-04 - val_loss: 0.0013\n",
      "Epoch 65/100\n",
      "12/12 [==============================] - 1s 114ms/step - loss: 1.0479e-04 - val_loss: 0.0025\n",
      "Epoch 66/100\n",
      "12/12 [==============================] - 1s 106ms/step - loss: 1.0132e-04 - val_loss: 0.0017\n",
      "Epoch 67/100\n",
      "12/12 [==============================] - 1s 105ms/step - loss: 9.7680e-05 - val_loss: 9.6460e-04\n",
      "Epoch 68/100\n",
      "12/12 [==============================] - 1s 110ms/step - loss: 1.0637e-04 - val_loss: 0.0017\n",
      "Epoch 69/100\n",
      "12/12 [==============================] - 1s 105ms/step - loss: 9.4496e-05 - val_loss: 0.0020\n",
      "Epoch 70/100\n",
      "12/12 [==============================] - 1s 110ms/step - loss: 1.0074e-04 - val_loss: 0.0021\n",
      "Epoch 71/100\n",
      "12/12 [==============================] - 1s 105ms/step - loss: 9.8873e-05 - val_loss: 9.7071e-04\n",
      "Epoch 72/100\n",
      "12/12 [==============================] - 1s 111ms/step - loss: 9.6484e-05 - val_loss: 0.0033\n",
      "Epoch 73/100\n",
      "12/12 [==============================] - 1s 109ms/step - loss: 9.3024e-05 - val_loss: 0.0025\n",
      "Epoch 74/100\n",
      "12/12 [==============================] - 1s 106ms/step - loss: 9.7076e-05 - val_loss: 0.0013\n",
      "Epoch 75/100\n",
      "12/12 [==============================] - 1s 104ms/step - loss: 8.9084e-05 - val_loss: 0.0021\n",
      "Epoch 76/100\n",
      "12/12 [==============================] - 1s 104ms/step - loss: 8.3288e-05 - val_loss: 0.0024\n",
      "Epoch 77/100\n",
      "12/12 [==============================] - 1s 103ms/step - loss: 8.8495e-05 - val_loss: 0.0025\n",
      "Epoch 78/100\n"
     ]
    },
    {
     "name": "stdout",
     "output_type": "stream",
     "text": [
      "12/12 [==============================] - 1s 109ms/step - loss: 8.9861e-05 - val_loss: 0.0017\n",
      "Epoch 79/100\n",
      "12/12 [==============================] - 1s 102ms/step - loss: 8.5897e-05 - val_loss: 0.0013\n",
      "Epoch 80/100\n",
      "12/12 [==============================] - 1s 104ms/step - loss: 7.7803e-05 - val_loss: 0.0024\n",
      "Epoch 81/100\n",
      "12/12 [==============================] - 1s 107ms/step - loss: 8.3801e-05 - val_loss: 0.0030\n",
      "Epoch 82/100\n",
      "12/12 [==============================] - 1s 106ms/step - loss: 7.9803e-05 - val_loss: 0.0018\n",
      "Epoch 83/100\n",
      "12/12 [==============================] - 1s 108ms/step - loss: 7.9424e-05 - val_loss: 0.0026\n",
      "Epoch 84/100\n",
      "12/12 [==============================] - 1s 106ms/step - loss: 9.8220e-05 - val_loss: 0.0017\n",
      "Epoch 85/100\n",
      "12/12 [==============================] - 1s 104ms/step - loss: 7.9654e-05 - val_loss: 0.0026\n",
      "Epoch 86/100\n",
      "12/12 [==============================] - 1s 106ms/step - loss: 7.2785e-05 - val_loss: 0.0019\n",
      "Epoch 87/100\n",
      "12/12 [==============================] - 1s 104ms/step - loss: 7.6848e-05 - val_loss: 0.0012\n",
      "Epoch 88/100\n",
      "12/12 [==============================] - 1s 103ms/step - loss: 7.2372e-05 - val_loss: 0.0014\n",
      "Epoch 89/100\n",
      "12/12 [==============================] - 1s 103ms/step - loss: 9.0115e-05 - val_loss: 0.0037\n",
      "Epoch 90/100\n",
      "12/12 [==============================] - 1s 106ms/step - loss: 8.2402e-05 - val_loss: 0.0020\n",
      "Epoch 91/100\n",
      "12/12 [==============================] - 1s 107ms/step - loss: 7.3578e-05 - val_loss: 0.0016\n",
      "Epoch 92/100\n",
      "12/12 [==============================] - 1s 110ms/step - loss: 6.8146e-05 - val_loss: 0.0023\n",
      "Epoch 93/100\n",
      "12/12 [==============================] - 1s 108ms/step - loss: 7.0840e-05 - val_loss: 0.0017\n",
      "Epoch 94/100\n",
      "12/12 [==============================] - 1s 102ms/step - loss: 6.9869e-05 - val_loss: 0.0015\n",
      "Epoch 95/100\n",
      "12/12 [==============================] - 1s 107ms/step - loss: 6.9964e-05 - val_loss: 0.0017\n",
      "Epoch 96/100\n",
      "12/12 [==============================] - 1s 101ms/step - loss: 6.7574e-05 - val_loss: 0.0018\n",
      "Epoch 97/100\n",
      "12/12 [==============================] - 1s 107ms/step - loss: 8.5354e-05 - val_loss: 0.0013\n",
      "Epoch 98/100\n",
      "12/12 [==============================] - 1s 105ms/step - loss: 6.8909e-05 - val_loss: 0.0015\n",
      "Epoch 99/100\n",
      "12/12 [==============================] - 1s 106ms/step - loss: 6.5018e-05 - val_loss: 0.0024\n",
      "Epoch 100/100\n",
      "12/12 [==============================] - 1s 107ms/step - loss: 7.5201e-05 - val_loss: 0.0011\n"
     ]
    },
    {
     "data": {
      "text/plain": [
       "<tensorflow.python.keras.callbacks.History at 0x222d03babb0>"
      ]
     },
     "execution_count": 43,
     "metadata": {},
     "output_type": "execute_result"
    }
   ],
   "source": [
    "model.fit(X_train,y_train,validation_data=(X_test,ytest),epochs=100,batch_size=64,verbose=1)"
   ]
  },
  {
   "cell_type": "code",
   "execution_count": 44,
   "metadata": {},
   "outputs": [],
   "source": [
    "train_predict=model.predict(X_train)\n",
    "test_predict=model.predict(X_test)"
   ]
  },
  {
   "cell_type": "code",
   "execution_count": 46,
   "metadata": {},
   "outputs": [],
   "source": [
    "train_predict=sc.inverse_transform(train_predict)\n",
    "test_predict=sc.inverse_transform(test_predict)"
   ]
  },
  {
   "cell_type": "code",
   "execution_count": 47,
   "metadata": {},
   "outputs": [
    {
     "data": {
      "text/plain": [
       "155.03167563668308"
      ]
     },
     "execution_count": 47,
     "metadata": {},
     "output_type": "execute_result"
    }
   ],
   "source": [
    "from sklearn.metrics import mean_squared_error\n",
    "np.sqrt(mean_squared_error(y_train,train_predict))"
   ]
  },
  {
   "cell_type": "code",
   "execution_count": 49,
   "metadata": {},
   "outputs": [
    {
     "data": {
      "text/plain": [
       "273.2612144836264"
      ]
     },
     "execution_count": 49,
     "metadata": {},
     "output_type": "execute_result"
    }
   ],
   "source": [
    "np.sqrt(mean_squared_error(ytest,test_predict))"
   ]
  },
  {
   "cell_type": "code",
   "execution_count": 63,
   "metadata": {},
   "outputs": [
    {
     "data": {
      "text/plain": [
       "Text(0.5, 1.0, 'Test Prediction')"
      ]
     },
     "execution_count": 63,
     "metadata": {},
     "output_type": "execute_result"
    },
    {
     "data": {
      "image/png": "[encoded data removed]",
      "text/plain": [
       "<Figure size 432x288 with 3 Axes>"
      ]
     },
     "metadata": {
      "needs_background": "light"
     },
     "output_type": "display_data"
    },
    {
     "data": {
      "text/plain": [
       "<Figure size 1152x288 with 0 Axes>"
      ]
     },
     "metadata": {},
     "output_type": "display_data"
    }
   ],
   "source": [
    "look_back=100\n",
    "trainPredictPlot = np.empty_like(df1)\n",
    "trainPredictPlot[:, :] = np.nan\n",
    "trainPredictPlot[look_back:len(train_predict)+look_back, :] = train_predict\n",
    "testPredictPlot = np.empty_like(df1)\n",
    "testPredictPlot[:, :] = np.nan\n",
    "testPredictPlot[len(train_predict)+(look_back*2)+1:len(df1)-1, :] = test_predict\n",
    "fig, axs = plt.subplots(nrows = 3, ncols = 1, constrained_layout = True)\n",
    "plt.figure(figsize=(16,4))\n",
    "axs[0].plot(sc.inverse_transform(df1))\n",
    "axs[1].plot(trainPredictPlot)\n",
    "axs[2].plot(testPredictPlot)\n",
    "axs[0].set_title('Real Data')\n",
    "axs[1].set_title('Train Prediciton')\n",
    "axs[2].set_title('Test Prediction')"
   ]
  },
  {
   "cell_type": "code",
   "execution_count": 64,
   "metadata": {},
   "outputs": [
    {
     "data": {
      "text/plain": [
       "(1, 100)"
      ]
     },
     "execution_count": 64,
     "metadata": {},
     "output_type": "execute_result"
    }
   ],
   "source": [
    "x_input=test_data[341:].reshape(1,-1)\n",
    "x_input.shape"
   ]
  },
  {
   "cell_type": "code",
   "execution_count": 65,
   "metadata": {},
   "outputs": [],
   "source": [
    "temp_input=list(x_input)\n",
    "temp_input=temp_input[0].tolist()"
   ]
  },
  {
   "cell_type": "code",
   "execution_count": 66,
   "metadata": {},
   "outputs": [
    {
     "name": "stdout",
     "output_type": "stream",
     "text": [
      "[0.8806797]\n",
      "101\n",
      "1 day input [0.3796974  0.37105173 0.42277841 0.41531169 0.43162057 0.4363364\n",
      " 0.44925578 0.48315076 0.47671563 0.48226654 0.47271209 0.45829444\n",
      " 0.43726974 0.45625583 0.45362774 0.47312964 0.47362087 0.4623471\n",
      " 0.48482095 0.49972982 0.4881122  0.49815788 0.50896498 0.51650538\n",
      " 0.52414403 0.53983888 0.55182493 0.54298276 0.53374761 0.53838974\n",
      " 0.53389497 0.55170212 0.54723191 0.56218991 0.55634426 0.56135482\n",
      " 0.55604952 0.55943901 0.55978288 0.55902147 0.56862504 0.57228472\n",
      " 0.57665668 0.56977944 0.59232696 0.59714103 0.62300437 0.64474137\n",
      " 0.60313406 0.61025691 0.62054821 0.64287469 0.64167117 0.64201503\n",
      " 0.63707815 0.659552   0.67836616 0.66247482 0.67421526 0.64668173\n",
      " 0.66669942 0.67411701 0.67242226 0.67242226 0.69634524 0.69349609\n",
      " 0.71481554 0.71884364 0.72048927 0.71614187 0.73166478 0.73822272\n",
      " 0.72640861 0.7244928  0.7444368  0.73109987 0.73377708 0.69027853\n",
      " 0.68801886 0.70958393 0.69428207 0.71184359 0.72314192 0.82207594\n",
      " 0.84838139 0.85552881 0.8594341  0.89716068 0.86974996 0.88561674\n",
      " 0.85267967 0.8883922  0.90804146 0.90703444 0.90408705 0.91346957\n",
      " 0.91489414 0.94011888 1.         0.88067973]\n",
      "1 day output [[0.8771108]]\n",
      "2 day input [0.37105173 0.42277841 0.41531169 0.43162057 0.4363364  0.44925578\n",
      " 0.48315076 0.47671563 0.48226654 0.47271209 0.45829444 0.43726974\n",
      " 0.45625583 0.45362774 0.47312964 0.47362087 0.4623471  0.48482095\n",
      " 0.49972982 0.4881122  0.49815788 0.50896498 0.51650538 0.52414403\n",
      " 0.53983888 0.55182493 0.54298276 0.53374761 0.53838974 0.53389497\n",
      " 0.55170212 0.54723191 0.56218991 0.55634426 0.56135482 0.55604952\n",
      " 0.55943901 0.55978288 0.55902147 0.56862504 0.57228472 0.57665668\n",
      " 0.56977944 0.59232696 0.59714103 0.62300437 0.64474137 0.60313406\n",
      " 0.61025691 0.62054821 0.64287469 0.64167117 0.64201503 0.63707815\n",
      " 0.659552   0.67836616 0.66247482 0.67421526 0.64668173 0.66669942\n",
      " 0.67411701 0.67242226 0.67242226 0.69634524 0.69349609 0.71481554\n",
      " 0.71884364 0.72048927 0.71614187 0.73166478 0.73822272 0.72640861\n",
      " 0.7244928  0.7444368  0.73109987 0.73377708 0.69027853 0.68801886\n",
      " 0.70958393 0.69428207 0.71184359 0.72314192 0.82207594 0.84838139\n",
      " 0.85552881 0.8594341  0.89716068 0.86974996 0.88561674 0.85267967\n",
      " 0.8883922  0.90804146 0.90703444 0.90408705 0.91346957 0.91489414\n",
      " 0.94011888 1.         0.88067973 0.87711078]\n",
      "2 day output [[0.85552675]]\n",
      "3 day input [0.42277841 0.41531169 0.43162057 0.4363364  0.44925578 0.48315076\n",
      " 0.47671563 0.48226654 0.47271209 0.45829444 0.43726974 0.45625583\n",
      " 0.45362774 0.47312964 0.47362087 0.4623471  0.48482095 0.49972982\n",
      " 0.4881122  0.49815788 0.50896498 0.51650538 0.52414403 0.53983888\n",
      " 0.55182493 0.54298276 0.53374761 0.53838974 0.53389497 0.55170212\n",
      " 0.54723191 0.56218991 0.55634426 0.56135482 0.55604952 0.55943901\n",
      " 0.55978288 0.55902147 0.56862504 0.57228472 0.57665668 0.56977944\n",
      " 0.59232696 0.59714103 0.62300437 0.64474137 0.60313406 0.61025691\n",
      " 0.62054821 0.64287469 0.64167117 0.64201503 0.63707815 0.659552\n",
      " 0.67836616 0.66247482 0.67421526 0.64668173 0.66669942 0.67411701\n",
      " 0.67242226 0.67242226 0.69634524 0.69349609 0.71481554 0.71884364\n",
      " 0.72048927 0.71614187 0.73166478 0.73822272 0.72640861 0.7244928\n",
      " 0.7444368  0.73109987 0.73377708 0.69027853 0.68801886 0.70958393\n",
      " 0.69428207 0.71184359 0.72314192 0.82207594 0.84838139 0.85552881\n",
      " 0.8594341  0.89716068 0.86974996 0.88561674 0.85267967 0.8883922\n",
      " 0.90804146 0.90703444 0.90408705 0.91346957 0.91489414 0.94011888\n",
      " 1.         0.88067973 0.87711078 0.85552675]\n",
      "3 day output [[0.8237892]]\n",
      "4 day input [0.41531169 0.43162057 0.4363364  0.44925578 0.48315076 0.47671563\n",
      " 0.48226654 0.47271209 0.45829444 0.43726974 0.45625583 0.45362774\n",
      " 0.47312964 0.47362087 0.4623471  0.48482095 0.49972982 0.4881122\n",
      " 0.49815788 0.50896498 0.51650538 0.52414403 0.53983888 0.55182493\n",
      " 0.54298276 0.53374761 0.53838974 0.53389497 0.55170212 0.54723191\n",
      " 0.56218991 0.55634426 0.56135482 0.55604952 0.55943901 0.55978288\n",
      " 0.55902147 0.56862504 0.57228472 0.57665668 0.56977944 0.59232696\n",
      " 0.59714103 0.62300437 0.64474137 0.60313406 0.61025691 0.62054821\n",
      " 0.64287469 0.64167117 0.64201503 0.63707815 0.659552   0.67836616\n",
      " 0.66247482 0.67421526 0.64668173 0.66669942 0.67411701 0.67242226\n",
      " 0.67242226 0.69634524 0.69349609 0.71481554 0.71884364 0.72048927\n",
      " 0.71614187 0.73166478 0.73822272 0.72640861 0.7244928  0.7444368\n",
      " 0.73109987 0.73377708 0.69027853 0.68801886 0.70958393 0.69428207\n",
      " 0.71184359 0.72314192 0.82207594 0.84838139 0.85552881 0.8594341\n",
      " 0.89716068 0.86974996 0.88561674 0.85267967 0.8883922  0.90804146\n",
      " 0.90703444 0.90408705 0.91346957 0.91489414 0.94011888 1.\n",
      " 0.88067973 0.87711078 0.85552675 0.82378918]\n",
      "4 day output [[0.7891888]]\n",
      "5 day input [0.43162057 0.4363364  0.44925578 0.48315076 0.47671563 0.48226654\n",
      " 0.47271209 0.45829444 0.43726974 0.45625583 0.45362774 0.47312964\n",
      " 0.47362087 0.4623471  0.48482095 0.49972982 0.4881122  0.49815788\n",
      " 0.50896498 0.51650538 0.52414403 0.53983888 0.55182493 0.54298276\n",
      " 0.53374761 0.53838974 0.53389497 0.55170212 0.54723191 0.56218991\n",
      " 0.55634426 0.56135482 0.55604952 0.55943901 0.55978288 0.55902147\n",
      " 0.56862504 0.57228472 0.57665668 0.56977944 0.59232696 0.59714103\n",
      " 0.62300437 0.64474137 0.60313406 0.61025691 0.62054821 0.64287469\n",
      " 0.64167117 0.64201503 0.63707815 0.659552   0.67836616 0.66247482\n",
      " 0.67421526 0.64668173 0.66669942 0.67411701 0.67242226 0.67242226\n",
      " 0.69634524 0.69349609 0.71481554 0.71884364 0.72048927 0.71614187\n",
      " 0.73166478 0.73822272 0.72640861 0.7244928  0.7444368  0.73109987\n",
      " 0.73377708 0.69027853 0.68801886 0.70958393 0.69428207 0.71184359\n",
      " 0.72314192 0.82207594 0.84838139 0.85552881 0.8594341  0.89716068\n",
      " 0.86974996 0.88561674 0.85267967 0.8883922  0.90804146 0.90703444\n",
      " 0.90408705 0.91346957 0.91489414 0.94011888 1.         0.88067973\n",
      " 0.87711078 0.85552675 0.82378918 0.7891888 ]\n",
      "5 day output [[0.7573841]]\n",
      "6 day input [0.4363364  0.44925578 0.48315076 0.47671563 0.48226654 0.47271209\n",
      " 0.45829444 0.43726974 0.45625583 0.45362774 0.47312964 0.47362087\n",
      " 0.4623471  0.48482095 0.49972982 0.4881122  0.49815788 0.50896498\n",
      " 0.51650538 0.52414403 0.53983888 0.55182493 0.54298276 0.53374761\n",
      " 0.53838974 0.53389497 0.55170212 0.54723191 0.56218991 0.55634426\n",
      " 0.56135482 0.55604952 0.55943901 0.55978288 0.55902147 0.56862504\n",
      " 0.57228472 0.57665668 0.56977944 0.59232696 0.59714103 0.62300437\n",
      " 0.64474137 0.60313406 0.61025691 0.62054821 0.64287469 0.64167117\n",
      " 0.64201503 0.63707815 0.659552   0.67836616 0.66247482 0.67421526\n",
      " 0.64668173 0.66669942 0.67411701 0.67242226 0.67242226 0.69634524\n",
      " 0.69349609 0.71481554 0.71884364 0.72048927 0.71614187 0.73166478\n",
      " 0.73822272 0.72640861 0.7244928  0.7444368  0.73109987 0.73377708\n",
      " 0.69027853 0.68801886 0.70958393 0.69428207 0.71184359 0.72314192\n",
      " 0.82207594 0.84838139 0.85552881 0.8594341  0.89716068 0.86974996\n",
      " 0.88561674 0.85267967 0.8883922  0.90804146 0.90703444 0.90408705\n",
      " 0.91346957 0.91489414 0.94011888 1.         0.88067973 0.87711078\n",
      " 0.85552675 0.82378918 0.7891888  0.75738412]\n",
      "6 day output [[0.73255426]]\n",
      "7 day input [0.44925578 0.48315076 0.47671563 0.48226654 0.47271209 0.45829444\n",
      " 0.43726974 0.45625583 0.45362774 0.47312964 0.47362087 0.4623471\n",
      " 0.48482095 0.49972982 0.4881122  0.49815788 0.50896498 0.51650538\n",
      " 0.52414403 0.53983888 0.55182493 0.54298276 0.53374761 0.53838974\n",
      " 0.53389497 0.55170212 0.54723191 0.56218991 0.55634426 0.56135482\n",
      " 0.55604952 0.55943901 0.55978288 0.55902147 0.56862504 0.57228472\n",
      " 0.57665668 0.56977944 0.59232696 0.59714103 0.62300437 0.64474137\n",
      " 0.60313406 0.61025691 0.62054821 0.64287469 0.64167117 0.64201503\n",
      " 0.63707815 0.659552   0.67836616 0.66247482 0.67421526 0.64668173\n",
      " 0.66669942 0.67411701 0.67242226 0.67242226 0.69634524 0.69349609\n",
      " 0.71481554 0.71884364 0.72048927 0.71614187 0.73166478 0.73822272\n",
      " 0.72640861 0.7244928  0.7444368  0.73109987 0.73377708 0.69027853\n",
      " 0.68801886 0.70958393 0.69428207 0.71184359 0.72314192 0.82207594\n",
      " 0.84838139 0.85552881 0.8594341  0.89716068 0.86974996 0.88561674\n",
      " 0.85267967 0.8883922  0.90804146 0.90703444 0.90408705 0.91346957\n",
      " 0.91489414 0.94011888 1.         0.88067973 0.87711078 0.85552675\n",
      " 0.82378918 0.7891888  0.75738412 0.73255426]\n",
      "7 day output [[0.71732014]]\n",
      "8 day input [0.48315076 0.47671563 0.48226654 0.47271209 0.45829444 0.43726974\n",
      " 0.45625583 0.45362774 0.47312964 0.47362087 0.4623471  0.48482095\n",
      " 0.49972982 0.4881122  0.49815788 0.50896498 0.51650538 0.52414403\n",
      " 0.53983888 0.55182493 0.54298276 0.53374761 0.53838974 0.53389497\n",
      " 0.55170212 0.54723191 0.56218991 0.55634426 0.56135482 0.55604952\n",
      " 0.55943901 0.55978288 0.55902147 0.56862504 0.57228472 0.57665668\n",
      " 0.56977944 0.59232696 0.59714103 0.62300437 0.64474137 0.60313406\n",
      " 0.61025691 0.62054821 0.64287469 0.64167117 0.64201503 0.63707815\n",
      " 0.659552   0.67836616 0.66247482 0.67421526 0.64668173 0.66669942\n",
      " 0.67411701 0.67242226 0.67242226 0.69634524 0.69349609 0.71481554\n",
      " 0.71884364 0.72048927 0.71614187 0.73166478 0.73822272 0.72640861\n",
      " 0.7244928  0.7444368  0.73109987 0.73377708 0.69027853 0.68801886\n",
      " 0.70958393 0.69428207 0.71184359 0.72314192 0.82207594 0.84838139\n",
      " 0.85552881 0.8594341  0.89716068 0.86974996 0.88561674 0.85267967\n",
      " 0.8883922  0.90804146 0.90703444 0.90408705 0.91346957 0.91489414\n",
      " 0.94011888 1.         0.88067973 0.87711078 0.85552675 0.82378918\n",
      " 0.7891888  0.75738412 0.73255426 0.71732014]\n",
      "8 day output [[0.712302]]\n",
      "9 day input [0.47671563 0.48226654 0.47271209 0.45829444 0.43726974 0.45625583\n",
      " 0.45362774 0.47312964 0.47362087 0.4623471  0.48482095 0.49972982\n",
      " 0.4881122  0.49815788 0.50896498 0.51650538 0.52414403 0.53983888\n",
      " 0.55182493 0.54298276 0.53374761 0.53838974 0.53389497 0.55170212\n",
      " 0.54723191 0.56218991 0.55634426 0.56135482 0.55604952 0.55943901\n",
      " 0.55978288 0.55902147 0.56862504 0.57228472 0.57665668 0.56977944\n",
      " 0.59232696 0.59714103 0.62300437 0.64474137 0.60313406 0.61025691\n",
      " 0.62054821 0.64287469 0.64167117 0.64201503 0.63707815 0.659552\n",
      " 0.67836616 0.66247482 0.67421526 0.64668173 0.66669942 0.67411701\n",
      " 0.67242226 0.67242226 0.69634524 0.69349609 0.71481554 0.71884364\n",
      " 0.72048927 0.71614187 0.73166478 0.73822272 0.72640861 0.7244928\n",
      " 0.7444368  0.73109987 0.73377708 0.69027853 0.68801886 0.70958393\n",
      " 0.69428207 0.71184359 0.72314192 0.82207594 0.84838139 0.85552881\n",
      " 0.8594341  0.89716068 0.86974996 0.88561674 0.85267967 0.8883922\n",
      " 0.90804146 0.90703444 0.90408705 0.91346957 0.91489414 0.94011888\n",
      " 1.         0.88067973 0.87711078 0.85552675 0.82378918 0.7891888\n",
      " 0.75738412 0.73255426 0.71732014 0.71230203]\n",
      "9 day output [[0.7159608]]\n",
      "10 day input [0.48226654 0.47271209 0.45829444 0.43726974 0.45625583 0.45362774\n",
      " 0.47312964 0.47362087 0.4623471  0.48482095 0.49972982 0.4881122\n",
      " 0.49815788 0.50896498 0.51650538 0.52414403 0.53983888 0.55182493\n",
      " 0.54298276 0.53374761 0.53838974 0.53389497 0.55170212 0.54723191\n",
      " 0.56218991 0.55634426 0.56135482 0.55604952 0.55943901 0.55978288\n",
      " 0.55902147 0.56862504 0.57228472 0.57665668 0.56977944 0.59232696\n",
      " 0.59714103 0.62300437 0.64474137 0.60313406 0.61025691 0.62054821\n",
      " 0.64287469 0.64167117 0.64201503 0.63707815 0.659552   0.67836616\n",
      " 0.66247482 0.67421526 0.64668173 0.66669942 0.67411701 0.67242226\n",
      " 0.67242226 0.69634524 0.69349609 0.71481554 0.71884364 0.72048927\n",
      " 0.71614187 0.73166478 0.73822272 0.72640861 0.7244928  0.7444368\n",
      " 0.73109987 0.73377708 0.69027853 0.68801886 0.70958393 0.69428207\n",
      " 0.71184359 0.72314192 0.82207594 0.84838139 0.85552881 0.8594341\n",
      " 0.89716068 0.86974996 0.88561674 0.85267967 0.8883922  0.90804146\n",
      " 0.90703444 0.90408705 0.91346957 0.91489414 0.94011888 1.\n",
      " 0.88067973 0.87711078 0.85552675 0.82378918 0.7891888  0.75738412\n",
      " 0.73255426 0.71732014 0.71230203 0.7159608 ]\n",
      "10 day output [[0.725201]]\n",
      "11 day input [0.47271209 0.45829444 0.43726974 0.45625583 0.45362774 0.47312964\n",
      " 0.47362087 0.4623471  0.48482095 0.49972982 0.4881122  0.49815788\n",
      " 0.50896498 0.51650538 0.52414403 0.53983888 0.55182493 0.54298276\n",
      " 0.53374761 0.53838974 0.53389497 0.55170212 0.54723191 0.56218991\n",
      " 0.55634426 0.56135482 0.55604952 0.55943901 0.55978288 0.55902147\n",
      " 0.56862504 0.57228472 0.57665668 0.56977944 0.59232696 0.59714103\n",
      " 0.62300437 0.64474137 0.60313406 0.61025691 0.62054821 0.64287469\n",
      " 0.64167117 0.64201503 0.63707815 0.659552   0.67836616 0.66247482\n",
      " 0.67421526 0.64668173 0.66669942 0.67411701 0.67242226 0.67242226\n",
      " 0.69634524 0.69349609 0.71481554 0.71884364 0.72048927 0.71614187\n",
      " 0.73166478 0.73822272 0.72640861 0.7244928  0.7444368  0.73109987\n",
      " 0.73377708 0.69027853 0.68801886 0.70958393 0.69428207 0.71184359\n",
      " 0.72314192 0.82207594 0.84838139 0.85552881 0.8594341  0.89716068\n",
      " 0.86974996 0.88561674 0.85267967 0.8883922  0.90804146 0.90703444\n",
      " 0.90408705 0.91346957 0.91489414 0.94011888 1.         0.88067973\n",
      " 0.87711078 0.85552675 0.82378918 0.7891888  0.75738412 0.73255426\n",
      " 0.71732014 0.71230203 0.7159608  0.72520101]\n",
      "11 day output [[0.73641384]]\n",
      "12 day input [0.45829444 0.43726974 0.45625583 0.45362774 0.47312964 0.47362087\n",
      " 0.4623471  0.48482095 0.49972982 0.4881122  0.49815788 0.50896498\n",
      " 0.51650538 0.52414403 0.53983888 0.55182493 0.54298276 0.53374761\n",
      " 0.53838974 0.53389497 0.55170212 0.54723191 0.56218991 0.55634426\n",
      " 0.56135482 0.55604952 0.55943901 0.55978288 0.55902147 0.56862504\n",
      " 0.57228472 0.57665668 0.56977944 0.59232696 0.59714103 0.62300437\n",
      " 0.64474137 0.60313406 0.61025691 0.62054821 0.64287469 0.64167117\n",
      " 0.64201503 0.63707815 0.659552   0.67836616 0.66247482 0.67421526\n",
      " 0.64668173 0.66669942 0.67411701 0.67242226 0.67242226 0.69634524\n",
      " 0.69349609 0.71481554 0.71884364 0.72048927 0.71614187 0.73166478\n",
      " 0.73822272 0.72640861 0.7244928  0.7444368  0.73109987 0.73377708\n",
      " 0.69027853 0.68801886 0.70958393 0.69428207 0.71184359 0.72314192\n",
      " 0.82207594 0.84838139 0.85552881 0.8594341  0.89716068 0.86974996\n",
      " 0.88561674 0.85267967 0.8883922  0.90804146 0.90703444 0.90408705\n",
      " 0.91346957 0.91489414 0.94011888 1.         0.88067973 0.87711078\n",
      " 0.85552675 0.82378918 0.7891888  0.75738412 0.73255426 0.71732014\n",
      " 0.71230203 0.7159608  0.72520101 0.73641384]\n",
      "12 day output [[0.74635655]]\n",
      "13 day input [0.43726974 0.45625583 0.45362774 0.47312964 0.47362087 0.4623471\n",
      " 0.48482095 0.49972982 0.4881122  0.49815788 0.50896498 0.51650538\n",
      " 0.52414403 0.53983888 0.55182493 0.54298276 0.53374761 0.53838974\n",
      " 0.53389497 0.55170212 0.54723191 0.56218991 0.55634426 0.56135482\n",
      " 0.55604952 0.55943901 0.55978288 0.55902147 0.56862504 0.57228472\n",
      " 0.57665668 0.56977944 0.59232696 0.59714103 0.62300437 0.64474137\n",
      " 0.60313406 0.61025691 0.62054821 0.64287469 0.64167117 0.64201503\n",
      " 0.63707815 0.659552   0.67836616 0.66247482 0.67421526 0.64668173\n",
      " 0.66669942 0.67411701 0.67242226 0.67242226 0.69634524 0.69349609\n",
      " 0.71481554 0.71884364 0.72048927 0.71614187 0.73166478 0.73822272\n",
      " 0.72640861 0.7244928  0.7444368  0.73109987 0.73377708 0.69027853\n",
      " 0.68801886 0.70958393 0.69428207 0.71184359 0.72314192 0.82207594\n",
      " 0.84838139 0.85552881 0.8594341  0.89716068 0.86974996 0.88561674\n",
      " 0.85267967 0.8883922  0.90804146 0.90703444 0.90408705 0.91346957\n",
      " 0.91489414 0.94011888 1.         0.88067973 0.87711078 0.85552675\n",
      " 0.82378918 0.7891888  0.75738412 0.73255426 0.71732014 0.71230203\n",
      " 0.7159608  0.72520101 0.73641384 0.74635655]\n"
     ]
    },
    {
     "name": "stdout",
     "output_type": "stream",
     "text": [
      "13 day output [[0.75261307]]\n",
      "14 day input [0.45625583 0.45362774 0.47312964 0.47362087 0.4623471  0.48482095\n",
      " 0.49972982 0.4881122  0.49815788 0.50896498 0.51650538 0.52414403\n",
      " 0.53983888 0.55182493 0.54298276 0.53374761 0.53838974 0.53389497\n",
      " 0.55170212 0.54723191 0.56218991 0.55634426 0.56135482 0.55604952\n",
      " 0.55943901 0.55978288 0.55902147 0.56862504 0.57228472 0.57665668\n",
      " 0.56977944 0.59232696 0.59714103 0.62300437 0.64474137 0.60313406\n",
      " 0.61025691 0.62054821 0.64287469 0.64167117 0.64201503 0.63707815\n",
      " 0.659552   0.67836616 0.66247482 0.67421526 0.64668173 0.66669942\n",
      " 0.67411701 0.67242226 0.67242226 0.69634524 0.69349609 0.71481554\n",
      " 0.71884364 0.72048927 0.71614187 0.73166478 0.73822272 0.72640861\n",
      " 0.7244928  0.7444368  0.73109987 0.73377708 0.69027853 0.68801886\n",
      " 0.70958393 0.69428207 0.71184359 0.72314192 0.82207594 0.84838139\n",
      " 0.85552881 0.8594341  0.89716068 0.86974996 0.88561674 0.85267967\n",
      " 0.8883922  0.90804146 0.90703444 0.90408705 0.91346957 0.91489414\n",
      " 0.94011888 1.         0.88067973 0.87711078 0.85552675 0.82378918\n",
      " 0.7891888  0.75738412 0.73255426 0.71732014 0.71230203 0.7159608\n",
      " 0.72520101 0.73641384 0.74635655 0.75261307]\n",
      "14 day output [[0.7537405]]\n",
      "15 day input [0.45362774 0.47312964 0.47362087 0.4623471  0.48482095 0.49972982\n",
      " 0.4881122  0.49815788 0.50896498 0.51650538 0.52414403 0.53983888\n",
      " 0.55182493 0.54298276 0.53374761 0.53838974 0.53389497 0.55170212\n",
      " 0.54723191 0.56218991 0.55634426 0.56135482 0.55604952 0.55943901\n",
      " 0.55978288 0.55902147 0.56862504 0.57228472 0.57665668 0.56977944\n",
      " 0.59232696 0.59714103 0.62300437 0.64474137 0.60313406 0.61025691\n",
      " 0.62054821 0.64287469 0.64167117 0.64201503 0.63707815 0.659552\n",
      " 0.67836616 0.66247482 0.67421526 0.64668173 0.66669942 0.67411701\n",
      " 0.67242226 0.67242226 0.69634524 0.69349609 0.71481554 0.71884364\n",
      " 0.72048927 0.71614187 0.73166478 0.73822272 0.72640861 0.7244928\n",
      " 0.7444368  0.73109987 0.73377708 0.69027853 0.68801886 0.70958393\n",
      " 0.69428207 0.71184359 0.72314192 0.82207594 0.84838139 0.85552881\n",
      " 0.8594341  0.89716068 0.86974996 0.88561674 0.85267967 0.8883922\n",
      " 0.90804146 0.90703444 0.90408705 0.91346957 0.91489414 0.94011888\n",
      " 1.         0.88067973 0.87711078 0.85552675 0.82378918 0.7891888\n",
      " 0.75738412 0.73255426 0.71732014 0.71230203 0.7159608  0.72520101\n",
      " 0.73641384 0.74635655 0.75261307 0.75374049]\n",
      "15 day output [[0.7492481]]\n",
      "16 day input [0.47312964 0.47362087 0.4623471  0.48482095 0.49972982 0.4881122\n",
      " 0.49815788 0.50896498 0.51650538 0.52414403 0.53983888 0.55182493\n",
      " 0.54298276 0.53374761 0.53838974 0.53389497 0.55170212 0.54723191\n",
      " 0.56218991 0.55634426 0.56135482 0.55604952 0.55943901 0.55978288\n",
      " 0.55902147 0.56862504 0.57228472 0.57665668 0.56977944 0.59232696\n",
      " 0.59714103 0.62300437 0.64474137 0.60313406 0.61025691 0.62054821\n",
      " 0.64287469 0.64167117 0.64201503 0.63707815 0.659552   0.67836616\n",
      " 0.66247482 0.67421526 0.64668173 0.66669942 0.67411701 0.67242226\n",
      " 0.67242226 0.69634524 0.69349609 0.71481554 0.71884364 0.72048927\n",
      " 0.71614187 0.73166478 0.73822272 0.72640861 0.7244928  0.7444368\n",
      " 0.73109987 0.73377708 0.69027853 0.68801886 0.70958393 0.69428207\n",
      " 0.71184359 0.72314192 0.82207594 0.84838139 0.85552881 0.8594341\n",
      " 0.89716068 0.86974996 0.88561674 0.85267967 0.8883922  0.90804146\n",
      " 0.90703444 0.90408705 0.91346957 0.91489414 0.94011888 1.\n",
      " 0.88067973 0.87711078 0.85552675 0.82378918 0.7891888  0.75738412\n",
      " 0.73255426 0.71732014 0.71230203 0.7159608  0.72520101 0.73641384\n",
      " 0.74635655 0.75261307 0.75374049 0.74924809]\n",
      "16 day output [[0.7394869]]\n",
      "17 day input [0.47362087 0.4623471  0.48482095 0.49972982 0.4881122  0.49815788\n",
      " 0.50896498 0.51650538 0.52414403 0.53983888 0.55182493 0.54298276\n",
      " 0.53374761 0.53838974 0.53389497 0.55170212 0.54723191 0.56218991\n",
      " 0.55634426 0.56135482 0.55604952 0.55943901 0.55978288 0.55902147\n",
      " 0.56862504 0.57228472 0.57665668 0.56977944 0.59232696 0.59714103\n",
      " 0.62300437 0.64474137 0.60313406 0.61025691 0.62054821 0.64287469\n",
      " 0.64167117 0.64201503 0.63707815 0.659552   0.67836616 0.66247482\n",
      " 0.67421526 0.64668173 0.66669942 0.67411701 0.67242226 0.67242226\n",
      " 0.69634524 0.69349609 0.71481554 0.71884364 0.72048927 0.71614187\n",
      " 0.73166478 0.73822272 0.72640861 0.7244928  0.7444368  0.73109987\n",
      " 0.73377708 0.69027853 0.68801886 0.70958393 0.69428207 0.71184359\n",
      " 0.72314192 0.82207594 0.84838139 0.85552881 0.8594341  0.89716068\n",
      " 0.86974996 0.88561674 0.85267967 0.8883922  0.90804146 0.90703444\n",
      " 0.90408705 0.91346957 0.91489414 0.94011888 1.         0.88067973\n",
      " 0.87711078 0.85552675 0.82378918 0.7891888  0.75738412 0.73255426\n",
      " 0.71732014 0.71230203 0.7159608  0.72520101 0.73641384 0.74635655\n",
      " 0.75261307 0.75374049 0.74924809 0.73948687]\n",
      "17 day output [[0.7254802]]\n",
      "18 day input [0.4623471  0.48482095 0.49972982 0.4881122  0.49815788 0.50896498\n",
      " 0.51650538 0.52414403 0.53983888 0.55182493 0.54298276 0.53374761\n",
      " 0.53838974 0.53389497 0.55170212 0.54723191 0.56218991 0.55634426\n",
      " 0.56135482 0.55604952 0.55943901 0.55978288 0.55902147 0.56862504\n",
      " 0.57228472 0.57665668 0.56977944 0.59232696 0.59714103 0.62300437\n",
      " 0.64474137 0.60313406 0.61025691 0.62054821 0.64287469 0.64167117\n",
      " 0.64201503 0.63707815 0.659552   0.67836616 0.66247482 0.67421526\n",
      " 0.64668173 0.66669942 0.67411701 0.67242226 0.67242226 0.69634524\n",
      " 0.69349609 0.71481554 0.71884364 0.72048927 0.71614187 0.73166478\n",
      " 0.73822272 0.72640861 0.7244928  0.7444368  0.73109987 0.73377708\n",
      " 0.69027853 0.68801886 0.70958393 0.69428207 0.71184359 0.72314192\n",
      " 0.82207594 0.84838139 0.85552881 0.8594341  0.89716068 0.86974996\n",
      " 0.88561674 0.85267967 0.8883922  0.90804146 0.90703444 0.90408705\n",
      " 0.91346957 0.91489414 0.94011888 1.         0.88067973 0.87711078\n",
      " 0.85552675 0.82378918 0.7891888  0.75738412 0.73255426 0.71732014\n",
      " 0.71230203 0.7159608  0.72520101 0.73641384 0.74635655 0.75261307\n",
      " 0.75374049 0.74924809 0.73948687 0.7254802 ]\n",
      "18 day output [[0.70871824]]\n",
      "19 day input [0.48482095 0.49972982 0.4881122  0.49815788 0.50896498 0.51650538\n",
      " 0.52414403 0.53983888 0.55182493 0.54298276 0.53374761 0.53838974\n",
      " 0.53389497 0.55170212 0.54723191 0.56218991 0.55634426 0.56135482\n",
      " 0.55604952 0.55943901 0.55978288 0.55902147 0.56862504 0.57228472\n",
      " 0.57665668 0.56977944 0.59232696 0.59714103 0.62300437 0.64474137\n",
      " 0.60313406 0.61025691 0.62054821 0.64287469 0.64167117 0.64201503\n",
      " 0.63707815 0.659552   0.67836616 0.66247482 0.67421526 0.64668173\n",
      " 0.66669942 0.67411701 0.67242226 0.67242226 0.69634524 0.69349609\n",
      " 0.71481554 0.71884364 0.72048927 0.71614187 0.73166478 0.73822272\n",
      " 0.72640861 0.7244928  0.7444368  0.73109987 0.73377708 0.69027853\n",
      " 0.68801886 0.70958393 0.69428207 0.71184359 0.72314192 0.82207594\n",
      " 0.84838139 0.85552881 0.8594341  0.89716068 0.86974996 0.88561674\n",
      " 0.85267967 0.8883922  0.90804146 0.90703444 0.90408705 0.91346957\n",
      " 0.91489414 0.94011888 1.         0.88067973 0.87711078 0.85552675\n",
      " 0.82378918 0.7891888  0.75738412 0.73255426 0.71732014 0.71230203\n",
      " 0.7159608  0.72520101 0.73641384 0.74635655 0.75261307 0.75374049\n",
      " 0.74924809 0.73948687 0.7254802  0.70871824]\n",
      "19 day output [[0.6909373]]\n",
      "20 day input [0.49972982 0.4881122  0.49815788 0.50896498 0.51650538 0.52414403\n",
      " 0.53983888 0.55182493 0.54298276 0.53374761 0.53838974 0.53389497\n",
      " 0.55170212 0.54723191 0.56218991 0.55634426 0.56135482 0.55604952\n",
      " 0.55943901 0.55978288 0.55902147 0.56862504 0.57228472 0.57665668\n",
      " 0.56977944 0.59232696 0.59714103 0.62300437 0.64474137 0.60313406\n",
      " 0.61025691 0.62054821 0.64287469 0.64167117 0.64201503 0.63707815\n",
      " 0.659552   0.67836616 0.66247482 0.67421526 0.64668173 0.66669942\n",
      " 0.67411701 0.67242226 0.67242226 0.69634524 0.69349609 0.71481554\n",
      " 0.71884364 0.72048927 0.71614187 0.73166478 0.73822272 0.72640861\n",
      " 0.7244928  0.7444368  0.73109987 0.73377708 0.69027853 0.68801886\n",
      " 0.70958393 0.69428207 0.71184359 0.72314192 0.82207594 0.84838139\n",
      " 0.85552881 0.8594341  0.89716068 0.86974996 0.88561674 0.85267967\n",
      " 0.8883922  0.90804146 0.90703444 0.90408705 0.91346957 0.91489414\n",
      " 0.94011888 1.         0.88067973 0.87711078 0.85552675 0.82378918\n",
      " 0.7891888  0.75738412 0.73255426 0.71732014 0.71230203 0.7159608\n",
      " 0.72520101 0.73641384 0.74635655 0.75261307 0.75374049 0.74924809\n",
      " 0.73948687 0.7254802  0.70871824 0.69093728]\n",
      "20 day output [[0.6738895]]\n",
      "21 day input [0.4881122  0.49815788 0.50896498 0.51650538 0.52414403 0.53983888\n",
      " 0.55182493 0.54298276 0.53374761 0.53838974 0.53389497 0.55170212\n",
      " 0.54723191 0.56218991 0.55634426 0.56135482 0.55604952 0.55943901\n",
      " 0.55978288 0.55902147 0.56862504 0.57228472 0.57665668 0.56977944\n",
      " 0.59232696 0.59714103 0.62300437 0.64474137 0.60313406 0.61025691\n",
      " 0.62054821 0.64287469 0.64167117 0.64201503 0.63707815 0.659552\n",
      " 0.67836616 0.66247482 0.67421526 0.64668173 0.66669942 0.67411701\n",
      " 0.67242226 0.67242226 0.69634524 0.69349609 0.71481554 0.71884364\n",
      " 0.72048927 0.71614187 0.73166478 0.73822272 0.72640861 0.7244928\n",
      " 0.7444368  0.73109987 0.73377708 0.69027853 0.68801886 0.70958393\n",
      " 0.69428207 0.71184359 0.72314192 0.82207594 0.84838139 0.85552881\n",
      " 0.8594341  0.89716068 0.86974996 0.88561674 0.85267967 0.8883922\n",
      " 0.90804146 0.90703444 0.90408705 0.91346957 0.91489414 0.94011888\n",
      " 1.         0.88067973 0.87711078 0.85552675 0.82378918 0.7891888\n",
      " 0.75738412 0.73255426 0.71732014 0.71230203 0.7159608  0.72520101\n",
      " 0.73641384 0.74635655 0.75261307 0.75374049 0.74924809 0.73948687\n",
      " 0.7254802  0.70871824 0.69093728 0.67388952]\n",
      "21 day output [[0.6591035]]\n",
      "22 day input [0.49815788 0.50896498 0.51650538 0.52414403 0.53983888 0.55182493\n",
      " 0.54298276 0.53374761 0.53838974 0.53389497 0.55170212 0.54723191\n",
      " 0.56218991 0.55634426 0.56135482 0.55604952 0.55943901 0.55978288\n",
      " 0.55902147 0.56862504 0.57228472 0.57665668 0.56977944 0.59232696\n",
      " 0.59714103 0.62300437 0.64474137 0.60313406 0.61025691 0.62054821\n",
      " 0.64287469 0.64167117 0.64201503 0.63707815 0.659552   0.67836616\n",
      " 0.66247482 0.67421526 0.64668173 0.66669942 0.67411701 0.67242226\n",
      " 0.67242226 0.69634524 0.69349609 0.71481554 0.71884364 0.72048927\n",
      " 0.71614187 0.73166478 0.73822272 0.72640861 0.7244928  0.7444368\n",
      " 0.73109987 0.73377708 0.69027853 0.68801886 0.70958393 0.69428207\n",
      " 0.71184359 0.72314192 0.82207594 0.84838139 0.85552881 0.8594341\n",
      " 0.89716068 0.86974996 0.88561674 0.85267967 0.8883922  0.90804146\n",
      " 0.90703444 0.90408705 0.91346957 0.91489414 0.94011888 1.\n",
      " 0.88067973 0.87711078 0.85552675 0.82378918 0.7891888  0.75738412\n",
      " 0.73255426 0.71732014 0.71230203 0.7159608  0.72520101 0.73641384\n",
      " 0.74635655 0.75261307 0.75374049 0.74924809 0.73948687 0.7254802\n",
      " 0.70871824 0.69093728 0.67388952 0.65910351]\n",
      "22 day output [[0.6476542]]\n",
      "23 day input [0.50896498 0.51650538 0.52414403 0.53983888 0.55182493 0.54298276\n",
      " 0.53374761 0.53838974 0.53389497 0.55170212 0.54723191 0.56218991\n",
      " 0.55634426 0.56135482 0.55604952 0.55943901 0.55978288 0.55902147\n",
      " 0.56862504 0.57228472 0.57665668 0.56977944 0.59232696 0.59714103\n",
      " 0.62300437 0.64474137 0.60313406 0.61025691 0.62054821 0.64287469\n",
      " 0.64167117 0.64201503 0.63707815 0.659552   0.67836616 0.66247482\n",
      " 0.67421526 0.64668173 0.66669942 0.67411701 0.67242226 0.67242226\n",
      " 0.69634524 0.69349609 0.71481554 0.71884364 0.72048927 0.71614187\n",
      " 0.73166478 0.73822272 0.72640861 0.7244928  0.7444368  0.73109987\n",
      " 0.73377708 0.69027853 0.68801886 0.70958393 0.69428207 0.71184359\n",
      " 0.72314192 0.82207594 0.84838139 0.85552881 0.8594341  0.89716068\n",
      " 0.86974996 0.88561674 0.85267967 0.8883922  0.90804146 0.90703444\n",
      " 0.90408705 0.91346957 0.91489414 0.94011888 1.         0.88067973\n",
      " 0.87711078 0.85552675 0.82378918 0.7891888  0.75738412 0.73255426\n",
      " 0.71732014 0.71230203 0.7159608  0.72520101 0.73641384 0.74635655\n",
      " 0.75261307 0.75374049 0.74924809 0.73948687 0.7254802  0.70871824\n",
      " 0.69093728 0.67388952 0.65910351 0.64765418]\n",
      "23 day output [[0.64000094]]\n",
      "24 day input [0.51650538 0.52414403 0.53983888 0.55182493 0.54298276 0.53374761\n",
      " 0.53838974 0.53389497 0.55170212 0.54723191 0.56218991 0.55634426\n",
      " 0.56135482 0.55604952 0.55943901 0.55978288 0.55902147 0.56862504\n",
      " 0.57228472 0.57665668 0.56977944 0.59232696 0.59714103 0.62300437\n",
      " 0.64474137 0.60313406 0.61025691 0.62054821 0.64287469 0.64167117\n",
      " 0.64201503 0.63707815 0.659552   0.67836616 0.66247482 0.67421526\n",
      " 0.64668173 0.66669942 0.67411701 0.67242226 0.67242226 0.69634524\n",
      " 0.69349609 0.71481554 0.71884364 0.72048927 0.71614187 0.73166478\n",
      " 0.73822272 0.72640861 0.7244928  0.7444368  0.73109987 0.73377708\n",
      " 0.69027853 0.68801886 0.70958393 0.69428207 0.71184359 0.72314192\n",
      " 0.82207594 0.84838139 0.85552881 0.8594341  0.89716068 0.86974996\n",
      " 0.88561674 0.85267967 0.8883922  0.90804146 0.90703444 0.90408705\n",
      " 0.91346957 0.91489414 0.94011888 1.         0.88067973 0.87711078\n",
      " 0.85552675 0.82378918 0.7891888  0.75738412 0.73255426 0.71732014\n",
      " 0.71230203 0.7159608  0.72520101 0.73641384 0.74635655 0.75261307\n",
      " 0.75374049 0.74924809 0.73948687 0.7254802  0.70871824 0.69093728\n",
      " 0.67388952 0.65910351 0.64765418 0.64000094]\n",
      "24 day output [[0.6359549]]\n",
      "25 day input [0.52414403 0.53983888 0.55182493 0.54298276 0.53374761 0.53838974\n",
      " 0.53389497 0.55170212 0.54723191 0.56218991 0.55634426 0.56135482\n",
      " 0.55604952 0.55943901 0.55978288 0.55902147 0.56862504 0.57228472\n",
      " 0.57665668 0.56977944 0.59232696 0.59714103 0.62300437 0.64474137\n",
      " 0.60313406 0.61025691 0.62054821 0.64287469 0.64167117 0.64201503\n",
      " 0.63707815 0.659552   0.67836616 0.66247482 0.67421526 0.64668173\n",
      " 0.66669942 0.67411701 0.67242226 0.67242226 0.69634524 0.69349609\n",
      " 0.71481554 0.71884364 0.72048927 0.71614187 0.73166478 0.73822272\n",
      " 0.72640861 0.7244928  0.7444368  0.73109987 0.73377708 0.69027853\n",
      " 0.68801886 0.70958393 0.69428207 0.71184359 0.72314192 0.82207594\n",
      " 0.84838139 0.85552881 0.8594341  0.89716068 0.86974996 0.88561674\n",
      " 0.85267967 0.8883922  0.90804146 0.90703444 0.90408705 0.91346957\n",
      " 0.91489414 0.94011888 1.         0.88067973 0.87711078 0.85552675\n",
      " 0.82378918 0.7891888  0.75738412 0.73255426 0.71732014 0.71230203\n",
      " 0.7159608  0.72520101 0.73641384 0.74635655 0.75261307 0.75374049\n",
      " 0.74924809 0.73948687 0.7254802  0.70871824 0.69093728 0.67388952\n",
      " 0.65910351 0.64765418 0.64000094 0.63595492]\n"
     ]
    },
    {
     "name": "stdout",
     "output_type": "stream",
     "text": [
      "25 day output [[0.63480157]]\n",
      "26 day input [0.53983888 0.55182493 0.54298276 0.53374761 0.53838974 0.53389497\n",
      " 0.55170212 0.54723191 0.56218991 0.55634426 0.56135482 0.55604952\n",
      " 0.55943901 0.55978288 0.55902147 0.56862504 0.57228472 0.57665668\n",
      " 0.56977944 0.59232696 0.59714103 0.62300437 0.64474137 0.60313406\n",
      " 0.61025691 0.62054821 0.64287469 0.64167117 0.64201503 0.63707815\n",
      " 0.659552   0.67836616 0.66247482 0.67421526 0.64668173 0.66669942\n",
      " 0.67411701 0.67242226 0.67242226 0.69634524 0.69349609 0.71481554\n",
      " 0.71884364 0.72048927 0.71614187 0.73166478 0.73822272 0.72640861\n",
      " 0.7244928  0.7444368  0.73109987 0.73377708 0.69027853 0.68801886\n",
      " 0.70958393 0.69428207 0.71184359 0.72314192 0.82207594 0.84838139\n",
      " 0.85552881 0.8594341  0.89716068 0.86974996 0.88561674 0.85267967\n",
      " 0.8883922  0.90804146 0.90703444 0.90408705 0.91346957 0.91489414\n",
      " 0.94011888 1.         0.88067973 0.87711078 0.85552675 0.82378918\n",
      " 0.7891888  0.75738412 0.73255426 0.71732014 0.71230203 0.7159608\n",
      " 0.72520101 0.73641384 0.74635655 0.75261307 0.75374049 0.74924809\n",
      " 0.73948687 0.7254802  0.70871824 0.69093728 0.67388952 0.65910351\n",
      " 0.64765418 0.64000094 0.63595492 0.63480157]\n",
      "26 day output [[0.63551617]]\n",
      "27 day input [0.55182493 0.54298276 0.53374761 0.53838974 0.53389497 0.55170212\n",
      " 0.54723191 0.56218991 0.55634426 0.56135482 0.55604952 0.55943901\n",
      " 0.55978288 0.55902147 0.56862504 0.57228472 0.57665668 0.56977944\n",
      " 0.59232696 0.59714103 0.62300437 0.64474137 0.60313406 0.61025691\n",
      " 0.62054821 0.64287469 0.64167117 0.64201503 0.63707815 0.659552\n",
      " 0.67836616 0.66247482 0.67421526 0.64668173 0.66669942 0.67411701\n",
      " 0.67242226 0.67242226 0.69634524 0.69349609 0.71481554 0.71884364\n",
      " 0.72048927 0.71614187 0.73166478 0.73822272 0.72640861 0.7244928\n",
      " 0.7444368  0.73109987 0.73377708 0.69027853 0.68801886 0.70958393\n",
      " 0.69428207 0.71184359 0.72314192 0.82207594 0.84838139 0.85552881\n",
      " 0.8594341  0.89716068 0.86974996 0.88561674 0.85267967 0.8883922\n",
      " 0.90804146 0.90703444 0.90408705 0.91346957 0.91489414 0.94011888\n",
      " 1.         0.88067973 0.87711078 0.85552675 0.82378918 0.7891888\n",
      " 0.75738412 0.73255426 0.71732014 0.71230203 0.7159608  0.72520101\n",
      " 0.73641384 0.74635655 0.75261307 0.75374049 0.74924809 0.73948687\n",
      " 0.7254802  0.70871824 0.69093728 0.67388952 0.65910351 0.64765418\n",
      " 0.64000094 0.63595492 0.63480157 0.63551617]\n",
      "27 day output [[0.6369933]]\n",
      "28 day input [0.54298276 0.53374761 0.53838974 0.53389497 0.55170212 0.54723191\n",
      " 0.56218991 0.55634426 0.56135482 0.55604952 0.55943901 0.55978288\n",
      " 0.55902147 0.56862504 0.57228472 0.57665668 0.56977944 0.59232696\n",
      " 0.59714103 0.62300437 0.64474137 0.60313406 0.61025691 0.62054821\n",
      " 0.64287469 0.64167117 0.64201503 0.63707815 0.659552   0.67836616\n",
      " 0.66247482 0.67421526 0.64668173 0.66669942 0.67411701 0.67242226\n",
      " 0.67242226 0.69634524 0.69349609 0.71481554 0.71884364 0.72048927\n",
      " 0.71614187 0.73166478 0.73822272 0.72640861 0.7244928  0.7444368\n",
      " 0.73109987 0.73377708 0.69027853 0.68801886 0.70958393 0.69428207\n",
      " 0.71184359 0.72314192 0.82207594 0.84838139 0.85552881 0.8594341\n",
      " 0.89716068 0.86974996 0.88561674 0.85267967 0.8883922  0.90804146\n",
      " 0.90703444 0.90408705 0.91346957 0.91489414 0.94011888 1.\n",
      " 0.88067973 0.87711078 0.85552675 0.82378918 0.7891888  0.75738412\n",
      " 0.73255426 0.71732014 0.71230203 0.7159608  0.72520101 0.73641384\n",
      " 0.74635655 0.75261307 0.75374049 0.74924809 0.73948687 0.7254802\n",
      " 0.70871824 0.69093728 0.67388952 0.65910351 0.64765418 0.64000094\n",
      " 0.63595492 0.63480157 0.63551617 0.63699329]\n",
      "28 day output [[0.63822466]]\n",
      "29 day input [0.53374761 0.53838974 0.53389497 0.55170212 0.54723191 0.56218991\n",
      " 0.55634426 0.56135482 0.55604952 0.55943901 0.55978288 0.55902147\n",
      " 0.56862504 0.57228472 0.57665668 0.56977944 0.59232696 0.59714103\n",
      " 0.62300437 0.64474137 0.60313406 0.61025691 0.62054821 0.64287469\n",
      " 0.64167117 0.64201503 0.63707815 0.659552   0.67836616 0.66247482\n",
      " 0.67421526 0.64668173 0.66669942 0.67411701 0.67242226 0.67242226\n",
      " 0.69634524 0.69349609 0.71481554 0.71884364 0.72048927 0.71614187\n",
      " 0.73166478 0.73822272 0.72640861 0.7244928  0.7444368  0.73109987\n",
      " 0.73377708 0.69027853 0.68801886 0.70958393 0.69428207 0.71184359\n",
      " 0.72314192 0.82207594 0.84838139 0.85552881 0.8594341  0.89716068\n",
      " 0.86974996 0.88561674 0.85267967 0.8883922  0.90804146 0.90703444\n",
      " 0.90408705 0.91346957 0.91489414 0.94011888 1.         0.88067973\n",
      " 0.87711078 0.85552675 0.82378918 0.7891888  0.75738412 0.73255426\n",
      " 0.71732014 0.71230203 0.7159608  0.72520101 0.73641384 0.74635655\n",
      " 0.75261307 0.75374049 0.74924809 0.73948687 0.7254802  0.70871824\n",
      " 0.69093728 0.67388952 0.65910351 0.64765418 0.64000094 0.63595492\n",
      " 0.63480157 0.63551617 0.63699329 0.63822466]\n",
      "29 day output [[0.6384112]]\n",
      "[[0.880679726600647], [0.8771107792854309], [0.8555267453193665], [0.8237891793251038], [0.789188802242279], [0.7573841214179993], [0.7325542569160461], [0.7173201441764832], [0.712302029132843], [0.7159608006477356], [0.7252010107040405], [0.736413836479187], [0.7463565468788147], [0.7526130676269531], [0.7537404894828796], [0.7492480874061584], [0.7394868731498718], [0.7254801988601685], [0.7087182402610779], [0.6909372806549072], [0.6738895177841187], [0.659103512763977], [0.6476541757583618], [0.6400009393692017], [0.6359549164772034], [0.6348015666007996], [0.6355161666870117], [0.6369932889938354], [0.6382246613502502], [0.6384112238883972]]\n"
     ]
    }
   ],
   "source": [
    "from numpy import array\n",
    "\n",
    "lst_output=[]\n",
    "n_steps=100\n",
    "i=0\n",
    "while(i<30):\n",
    "    \n",
    "    if(len(temp_input)>100):\n",
    "        #print(temp_input)\n",
    "        x_input=np.array(temp_input[1:])\n",
    "        print(\"{} day input {}\".format(i,x_input))\n",
    "        x_input=x_input.reshape(1,-1)\n",
    "        x_input = x_input.reshape((1, n_steps, 1))\n",
    "        #print(x_input)\n",
    "        yhat = model.predict(x_input, verbose=0)\n",
    "        print(\"{} day output {}\".format(i,yhat))\n",
    "        temp_input.extend(yhat[0].tolist())\n",
    "        temp_input=temp_input[1:]\n",
    "        #print(temp_input)\n",
    "        lst_output.extend(yhat.tolist())\n",
    "        i=i+1\n",
    "    else:\n",
    "        x_input = x_input.reshape((1, n_steps,1))\n",
    "        yhat = model.predict(x_input, verbose=0)\n",
    "        print(yhat[0])\n",
    "        temp_input.extend(yhat[0].tolist())\n",
    "        print(len(temp_input))\n",
    "        lst_output.extend(yhat.tolist())\n",
    "        i=i+1\n",
    "    \n",
    "\n",
    "print(lst_output)"
   ]
  },
  {
   "cell_type": "code",
   "execution_count": 75,
   "metadata": {},
   "outputs": [],
   "source": [
    "day_new=np.arange(1,101)\n",
    "day_pred=np.arange(101,131)"
   ]
  },
  {
   "cell_type": "code",
   "execution_count": 76,
   "metadata": {},
   "outputs": [
    {
     "ename": "ValueError",
     "evalue": "x and y must have same first dimension, but have shapes (100,) and (101, 1)",
     "output_type": "error",
     "traceback": [
      "\u001b[1;31m---------------------------------------------------------------------------\u001b[0m",
      "\u001b[1;31mValueError\u001b[0m                                Traceback (most recent call last)",
      "\u001b[1;32m<ipython-input-76-3345ee299d0e>\u001b[0m in \u001b[0;36m<module>\u001b[1;34m\u001b[0m\n\u001b[1;32m----> 1\u001b[1;33m \u001b[0mplt\u001b[0m\u001b[1;33m.\u001b[0m\u001b[0mplot\u001b[0m\u001b[1;33m(\u001b[0m\u001b[0mday_new\u001b[0m\u001b[1;33m,\u001b[0m\u001b[0msc\u001b[0m\u001b[1;33m.\u001b[0m\u001b[0minverse_transform\u001b[0m\u001b[1;33m(\u001b[0m\u001b[0mdf1\u001b[0m\u001b[1;33m[\u001b[0m\u001b[1;36m1158\u001b[0m\u001b[1;33m:\u001b[0m\u001b[1;33m]\u001b[0m\u001b[1;33m)\u001b[0m\u001b[1;33m)\u001b[0m\u001b[1;33m\u001b[0m\u001b[1;33m\u001b[0m\u001b[0m\n\u001b[0m\u001b[0;32m      2\u001b[0m \u001b[0mplt\u001b[0m\u001b[1;33m.\u001b[0m\u001b[0mplot\u001b[0m\u001b[1;33m(\u001b[0m\u001b[0mday_pred\u001b[0m\u001b[1;33m,\u001b[0m\u001b[0msc\u001b[0m\u001b[1;33m.\u001b[0m\u001b[0minverse_transform\u001b[0m\u001b[1;33m(\u001b[0m\u001b[0mlst_output\u001b[0m\u001b[1;33m)\u001b[0m\u001b[1;33m)\u001b[0m\u001b[1;33m\u001b[0m\u001b[1;33m\u001b[0m\u001b[0m\n",
      "\u001b[1;32m~\\anaconda3\\lib\\site-packages\\matplotlib\\pyplot.py\u001b[0m in \u001b[0;36mplot\u001b[1;34m(scalex, scaley, data, *args, **kwargs)\u001b[0m\n\u001b[0;32m   2759\u001b[0m \u001b[1;33m@\u001b[0m\u001b[0mdocstring\u001b[0m\u001b[1;33m.\u001b[0m\u001b[0mcopy\u001b[0m\u001b[1;33m(\u001b[0m\u001b[0mAxes\u001b[0m\u001b[1;33m.\u001b[0m\u001b[0mplot\u001b[0m\u001b[1;33m)\u001b[0m\u001b[1;33m\u001b[0m\u001b[1;33m\u001b[0m\u001b[0m\n\u001b[0;32m   2760\u001b[0m \u001b[1;32mdef\u001b[0m \u001b[0mplot\u001b[0m\u001b[1;33m(\u001b[0m\u001b[1;33m*\u001b[0m\u001b[0margs\u001b[0m\u001b[1;33m,\u001b[0m \u001b[0mscalex\u001b[0m\u001b[1;33m=\u001b[0m\u001b[1;32mTrue\u001b[0m\u001b[1;33m,\u001b[0m \u001b[0mscaley\u001b[0m\u001b[1;33m=\u001b[0m\u001b[1;32mTrue\u001b[0m\u001b[1;33m,\u001b[0m \u001b[0mdata\u001b[0m\u001b[1;33m=\u001b[0m\u001b[1;32mNone\u001b[0m\u001b[1;33m,\u001b[0m \u001b[1;33m**\u001b[0m\u001b[0mkwargs\u001b[0m\u001b[1;33m)\u001b[0m\u001b[1;33m:\u001b[0m\u001b[1;33m\u001b[0m\u001b[1;33m\u001b[0m\u001b[0m\n\u001b[1;32m-> 2761\u001b[1;33m     return gca().plot(\n\u001b[0m\u001b[0;32m   2762\u001b[0m         *args, scalex=scalex, scaley=scaley, **({\"data\": data} if data\n\u001b[0;32m   2763\u001b[0m         is not None else {}), **kwargs)\n",
      "\u001b[1;32m~\\anaconda3\\lib\\site-packages\\matplotlib\\axes\\_axes.py\u001b[0m in \u001b[0;36mplot\u001b[1;34m(self, scalex, scaley, data, *args, **kwargs)\u001b[0m\n\u001b[0;32m   1645\u001b[0m         \"\"\"\n\u001b[0;32m   1646\u001b[0m         \u001b[0mkwargs\u001b[0m \u001b[1;33m=\u001b[0m \u001b[0mcbook\u001b[0m\u001b[1;33m.\u001b[0m\u001b[0mnormalize_kwargs\u001b[0m\u001b[1;33m(\u001b[0m\u001b[0mkwargs\u001b[0m\u001b[1;33m,\u001b[0m \u001b[0mmlines\u001b[0m\u001b[1;33m.\u001b[0m\u001b[0mLine2D\u001b[0m\u001b[1;33m)\u001b[0m\u001b[1;33m\u001b[0m\u001b[1;33m\u001b[0m\u001b[0m\n\u001b[1;32m-> 1647\u001b[1;33m         \u001b[0mlines\u001b[0m \u001b[1;33m=\u001b[0m \u001b[1;33m[\u001b[0m\u001b[1;33m*\u001b[0m\u001b[0mself\u001b[0m\u001b[1;33m.\u001b[0m\u001b[0m_get_lines\u001b[0m\u001b[1;33m(\u001b[0m\u001b[1;33m*\u001b[0m\u001b[0margs\u001b[0m\u001b[1;33m,\u001b[0m \u001b[0mdata\u001b[0m\u001b[1;33m=\u001b[0m\u001b[0mdata\u001b[0m\u001b[1;33m,\u001b[0m \u001b[1;33m**\u001b[0m\u001b[0mkwargs\u001b[0m\u001b[1;33m)\u001b[0m\u001b[1;33m]\u001b[0m\u001b[1;33m\u001b[0m\u001b[1;33m\u001b[0m\u001b[0m\n\u001b[0m\u001b[0;32m   1648\u001b[0m         \u001b[1;32mfor\u001b[0m \u001b[0mline\u001b[0m \u001b[1;32min\u001b[0m \u001b[0mlines\u001b[0m\u001b[1;33m:\u001b[0m\u001b[1;33m\u001b[0m\u001b[1;33m\u001b[0m\u001b[0m\n\u001b[0;32m   1649\u001b[0m             \u001b[0mself\u001b[0m\u001b[1;33m.\u001b[0m\u001b[0madd_line\u001b[0m\u001b[1;33m(\u001b[0m\u001b[0mline\u001b[0m\u001b[1;33m)\u001b[0m\u001b[1;33m\u001b[0m\u001b[1;33m\u001b[0m\u001b[0m\n",
      "\u001b[1;32m~\\anaconda3\\lib\\site-packages\\matplotlib\\axes\\_base.py\u001b[0m in \u001b[0;36m__call__\u001b[1;34m(self, *args, **kwargs)\u001b[0m\n\u001b[0;32m    214\u001b[0m                 \u001b[0mthis\u001b[0m \u001b[1;33m+=\u001b[0m \u001b[0margs\u001b[0m\u001b[1;33m[\u001b[0m\u001b[1;36m0\u001b[0m\u001b[1;33m]\u001b[0m\u001b[1;33m,\u001b[0m\u001b[1;33m\u001b[0m\u001b[1;33m\u001b[0m\u001b[0m\n\u001b[0;32m    215\u001b[0m                 \u001b[0margs\u001b[0m \u001b[1;33m=\u001b[0m \u001b[0margs\u001b[0m\u001b[1;33m[\u001b[0m\u001b[1;36m1\u001b[0m\u001b[1;33m:\u001b[0m\u001b[1;33m]\u001b[0m\u001b[1;33m\u001b[0m\u001b[1;33m\u001b[0m\u001b[0m\n\u001b[1;32m--> 216\u001b[1;33m             \u001b[1;32myield\u001b[0m \u001b[1;32mfrom\u001b[0m \u001b[0mself\u001b[0m\u001b[1;33m.\u001b[0m\u001b[0m_plot_args\u001b[0m\u001b[1;33m(\u001b[0m\u001b[0mthis\u001b[0m\u001b[1;33m,\u001b[0m \u001b[0mkwargs\u001b[0m\u001b[1;33m)\u001b[0m\u001b[1;33m\u001b[0m\u001b[1;33m\u001b[0m\u001b[0m\n\u001b[0m\u001b[0;32m    217\u001b[0m \u001b[1;33m\u001b[0m\u001b[0m\n\u001b[0;32m    218\u001b[0m     \u001b[1;32mdef\u001b[0m \u001b[0mget_next_color\u001b[0m\u001b[1;33m(\u001b[0m\u001b[0mself\u001b[0m\u001b[1;33m)\u001b[0m\u001b[1;33m:\u001b[0m\u001b[1;33m\u001b[0m\u001b[1;33m\u001b[0m\u001b[0m\n",
      "\u001b[1;32m~\\anaconda3\\lib\\site-packages\\matplotlib\\axes\\_base.py\u001b[0m in \u001b[0;36m_plot_args\u001b[1;34m(self, tup, kwargs)\u001b[0m\n\u001b[0;32m    340\u001b[0m \u001b[1;33m\u001b[0m\u001b[0m\n\u001b[0;32m    341\u001b[0m         \u001b[1;32mif\u001b[0m \u001b[0mx\u001b[0m\u001b[1;33m.\u001b[0m\u001b[0mshape\u001b[0m\u001b[1;33m[\u001b[0m\u001b[1;36m0\u001b[0m\u001b[1;33m]\u001b[0m \u001b[1;33m!=\u001b[0m \u001b[0my\u001b[0m\u001b[1;33m.\u001b[0m\u001b[0mshape\u001b[0m\u001b[1;33m[\u001b[0m\u001b[1;36m0\u001b[0m\u001b[1;33m]\u001b[0m\u001b[1;33m:\u001b[0m\u001b[1;33m\u001b[0m\u001b[1;33m\u001b[0m\u001b[0m\n\u001b[1;32m--> 342\u001b[1;33m             raise ValueError(f\"x and y must have same first dimension, but \"\n\u001b[0m\u001b[0;32m    343\u001b[0m                              f\"have shapes {x.shape} and {y.shape}\")\n\u001b[0;32m    344\u001b[0m         \u001b[1;32mif\u001b[0m \u001b[0mx\u001b[0m\u001b[1;33m.\u001b[0m\u001b[0mndim\u001b[0m \u001b[1;33m>\u001b[0m \u001b[1;36m2\u001b[0m \u001b[1;32mor\u001b[0m \u001b[0my\u001b[0m\u001b[1;33m.\u001b[0m\u001b[0mndim\u001b[0m \u001b[1;33m>\u001b[0m \u001b[1;36m2\u001b[0m\u001b[1;33m:\u001b[0m\u001b[1;33m\u001b[0m\u001b[1;33m\u001b[0m\u001b[0m\n",
      "\u001b[1;31mValueError\u001b[0m: x and y must have same first dimension, but have shapes (100,) and (101, 1)"
     ]
    },
    {
     "data": {
      "image/png": "[encoded data removed]",
      "text/plain": [
       "<Figure size 432x288 with 1 Axes>"
      ]
     },
     "metadata": {
      "needs_background": "light"
     },
     "output_type": "display_data"
    }
   ],
   "source": [
    "plt.plot(day_new,sc.inverse_transform(df1[1158:]))\n",
    "plt.plot(day_pred,sc.inverse_transform(lst_output))"
   ]
  },
  {
   "cell_type": "code",
   "execution_count": 72,
   "metadata": {},
   "outputs": [
    {
     "data": {
      "text/plain": [
       "[<matplotlib.lines.Line2D at 0x222dfb376d0>]"
      ]
     },
     "execution_count": 72,
     "metadata": {},
     "output_type": "execute_result"
    },
    {
     "data": {
      "image/png": "[encoded data removed]",
      "text/plain": [
       "<Figure size 432x288 with 1 Axes>"
      ]
     },
     "metadata": {
      "needs_background": "light"
     },
     "output_type": "display_data"
    }
   ],
   "source": [
    "df3=df1.tolist()\n",
    "df3.extend(lst_output)\n",
    "plt.plot(df3[1200:])"
   ]
  },
  {
   "cell_type": "code",
   "execution_count": 74,
   "metadata": {},
   "outputs": [
    {
     "data": {
      "text/plain": [
       "[<matplotlib.lines.Line2D at 0x222dff6a940>]"
      ]
     },
     "execution_count": 74,
     "metadata": {},
     "output_type": "execute_result"
    },
    {
     "data": {
      "image/png": "[encoded data removed]",
      "text/plain": [
       "<Figure size 432x288 with 1 Axes>"
      ]
     },
     "metadata": {
      "needs_background": "light"
     },
     "output_type": "display_data"
    }
   ],
   "source": [
    "df3=sc.inverse_transform(df3).tolist()\n",
    "plt.plot(df3)"
   ]
  },
  {
   "cell_type": "code",
   "execution_count": null,
   "metadata": {},
   "outputs": [],
   "source": []
  }
 ],
 "metadata": {
  "kernelspec": {
   "display_name": "Python 3",
   "language": "python",
   "name": "python3"
  },
  "language_info": {
   "codemirror_mode": {
    "name": "ipython",
    "version": 3
   },
   "file_extension": ".py",
   "mimetype": "text/x-python",
   "name": "python",
   "nbconvert_exporter": "python",
   "pygments_lexer": "ipython3",
   "version": "3.8.3"
  }
 },
 "nbformat": 4,
 "nbformat_minor": 4
}
